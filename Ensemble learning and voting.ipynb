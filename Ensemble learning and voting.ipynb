{
 "cells": [
  {
   "cell_type": "markdown",
   "id": "69b79313",
   "metadata": {
    "papermill": {
     "duration": 0.00721,
     "end_time": "2025-07-11T19:35:53.333606",
     "exception": false,
     "start_time": "2025-07-11T19:35:53.326396",
     "status": "completed"
    },
    "tags": []
   },
   "source": []
  },
  {
   "cell_type": "markdown",
   "id": "43757c2f",
   "metadata": {
    "papermill": {
     "duration": 0.005913,
     "end_time": "2025-07-11T19:35:53.346022",
     "exception": false,
     "start_time": "2025-07-11T19:35:53.340109",
     "status": "completed"
    },
    "tags": []
   },
   "source": [
    "# Ensemble Learning\n",
    "Ensemble learning = Many models working together like a team.\n",
    "Ensemble learning is a machine learning method where many models are trained and then combined to solve the same problem. The goal is to get better accuracy and more reliable results than using just one model"
   ]
  },
  {
   "cell_type": "markdown",
   "id": "bf8cf21c",
   "metadata": {
    "papermill": {
     "duration": 0.005932,
     "end_time": "2025-07-11T19:35:53.358108",
     "exception": false,
     "start_time": "2025-07-11T19:35:53.352176",
     "status": "completed"
    },
    "tags": []
   },
   "source": []
  },
  {
   "cell_type": "markdown",
   "id": "096951d2",
   "metadata": {
    "papermill": {
     "duration": 0.00583,
     "end_time": "2025-07-11T19:35:53.370857",
     "exception": false,
     "start_time": "2025-07-11T19:35:53.365027",
     "status": "completed"
    },
    "tags": []
   },
   "source": [
    "##  Why do we do this?\n",
    "A single model can make mistakes.\n",
    "\n",
    "But different models make different mistakes.\n",
    "\n",
    "Combining them reduces errors and gives a stronger final result."
   ]
  },
  {
   "cell_type": "markdown",
   "id": "42c4089a",
   "metadata": {
    "papermill": {
     "duration": 0.005876,
     "end_time": "2025-07-11T19:35:53.382795",
     "exception": false,
     "start_time": "2025-07-11T19:35:53.376919",
     "status": "completed"
    },
    "tags": []
   },
   "source": [
    "## Model can be different in three ways:\n",
    "1. Using the same algorithm but diffrent data.\n",
    "2. Using different data and same algorithm.\n",
    "3. Combination of both."
   ]
  },
  {
   "cell_type": "markdown",
   "id": "c958d95a",
   "metadata": {
    "papermill": {
     "duration": 0.005985,
     "end_time": "2025-07-11T19:35:53.395249",
     "exception": false,
     "start_time": "2025-07-11T19:35:53.389264",
     "status": "completed"
    },
    "tags": []
   },
   "source": []
  },
  {
   "cell_type": "markdown",
   "id": "c6856fbf",
   "metadata": {
    "papermill": {
     "duration": 0.005897,
     "end_time": "2025-07-11T19:35:53.407273",
     "exception": false,
     "start_time": "2025-07-11T19:35:53.401376",
     "status": "completed"
    },
    "tags": []
   },
   "source": [
    "## Types of Ensemble learning\n",
    "1. Voting ( soft voting and hard voting)\n",
    "2. Stacking\n",
    "3. Bagging (Random forest)\n",
    "4. Boosting ( Adaboost Algorithm)"
   ]
  },
  {
   "cell_type": "markdown",
   "id": "b2b1c56d",
   "metadata": {
    "papermill": {
     "duration": 0.005821,
     "end_time": "2025-07-11T19:35:53.419061",
     "exception": false,
     "start_time": "2025-07-11T19:35:53.413240",
     "status": "completed"
    },
    "tags": []
   },
   "source": []
  },
  {
   "cell_type": "markdown",
   "id": "6e9e1063",
   "metadata": {
    "papermill": {
     "duration": 0.00574,
     "end_time": "2025-07-11T19:35:53.430789",
     "exception": false,
     "start_time": "2025-07-11T19:35:53.425049",
     "status": "completed"
    },
    "tags": []
   },
   "source": [
    "##  Voting\n",
    " All model using the same data but different algorithm.\n",
    " #### for example\n",
    " Many models (like decision trees, logistic regression, SVM, etc.).\n",
    " Each one gives its own prediction for the same data point.\n",
    " ### Classification problem\n",
    " And prediction for classification problem is based on majority count.\n",
    " for example if most of the model predict true then the final prediction will be true.\n",
    " \n",
    " ### For Regression problem\n",
    " calculate the mean of all the model output."
   ]
  },
  {
   "cell_type": "markdown",
   "id": "88dd2c70",
   "metadata": {
    "papermill": {
     "duration": 0.005875,
     "end_time": "2025-07-11T19:35:53.442605",
     "exception": false,
     "start_time": "2025-07-11T19:35:53.436730",
     "status": "completed"
    },
    "tags": []
   },
   "source": [
    "### Voting means:\n",
    "\n",
    "collect all the predictions,\n",
    "\n",
    "Then pick the final answer based on what most models say"
   ]
  },
  {
   "cell_type": "markdown",
   "id": "1d9130f2",
   "metadata": {
    "papermill": {
     "duration": 0.005861,
     "end_time": "2025-07-11T19:35:53.454442",
     "exception": false,
     "start_time": "2025-07-11T19:35:53.448581",
     "status": "completed"
    },
    "tags": []
   },
   "source": []
  },
  {
   "cell_type": "markdown",
   "id": "019ad125",
   "metadata": {
    "papermill": {
     "duration": 0.005794,
     "end_time": "2025-07-11T19:35:53.466215",
     "exception": false,
     "start_time": "2025-07-11T19:35:53.460421",
     "status": "completed"
    },
    "tags": []
   },
   "source": [
    "##### for example:Asking a group of friends: Is this picture a cat or a dog?\n",
    "If most friends say \"cat\",“cat” as the final answer.\n",
    "\n"
   ]
  },
  {
   "cell_type": "markdown",
   "id": "7cc051e5",
   "metadata": {
    "papermill": {
     "duration": 0.00583,
     "end_time": "2025-07-11T19:35:53.478042",
     "exception": false,
     "start_time": "2025-07-11T19:35:53.472212",
     "status": "completed"
    },
    "tags": []
   },
   "source": []
  },
  {
   "cell_type": "markdown",
   "id": "f29a7078",
   "metadata": {
    "papermill": {
     "duration": 0.0058,
     "end_time": "2025-07-11T19:35:53.489891",
     "exception": false,
     "start_time": "2025-07-11T19:35:53.484091",
     "status": "completed"
    },
    "tags": []
   },
   "source": [
    "## Types of Voting\n",
    "1. Hard voting\n",
    "2. Soft Voting"
   ]
  },
  {
   "cell_type": "markdown",
   "id": "c3b0c26b",
   "metadata": {
    "papermill": {
     "duration": 0.005827,
     "end_time": "2025-07-11T19:35:53.501724",
     "exception": false,
     "start_time": "2025-07-11T19:35:53.495897",
     "status": "completed"
    },
    "tags": []
   },
   "source": []
  },
  {
   "cell_type": "markdown",
   "id": "6037b0e9",
   "metadata": {
    "papermill": {
     "duration": 0.005759,
     "end_time": "2025-07-11T19:35:53.513471",
     "exception": false,
     "start_time": "2025-07-11T19:35:53.507712",
     "status": "completed"
    },
    "tags": []
   },
   "source": [
    "## Hard Voting\n",
    "Each model votes for a class label (e.g., cat or dog).\n",
    "\n",
    "The class with the most votes wins.\n",
    "\n",
    "It doesnot care how confident each model is just the majority.\n",
    "\n",
    "<b><i>Hard Voting = Majority vote</i></b>\n",
    "\n",
    "### Example\n",
    "\n",
    "**Model 1** says: Cat\n",
    "\n",
    "**Model 2** says: Dog\n",
    "\n",
    "**Model 3** says: Cat\n",
    "→ **Final:** Cat (because 2 out of 3 said Cat)"
   ]
  },
  {
   "cell_type": "markdown",
   "id": "75b57e91",
   "metadata": {
    "papermill": {
     "duration": 0.005808,
     "end_time": "2025-07-11T19:35:53.525186",
     "exception": false,
     "start_time": "2025-07-11T19:35:53.519378",
     "status": "completed"
    },
    "tags": []
   },
   "source": []
  },
  {
   "cell_type": "markdown",
   "id": "5c064b09",
   "metadata": {
    "papermill": {
     "duration": 0.006003,
     "end_time": "2025-07-11T19:35:53.538763",
     "exception": false,
     "start_time": "2025-07-11T19:35:53.532760",
     "status": "completed"
    },
    "tags": []
   },
   "source": [
    "## Soft Voting\n",
    "Each model predicts probabilities for each class.\n",
    "\n",
    "**Soft Voting = Average probabilities, then pick the highest.**\n",
    "\n",
    "**For example:** 70% cat, 30% dog.\n",
    "\n",
    "The probabilities are averaged.\n",
    "\n",
    "The final class is the one with the highest average probability.\n",
    "\n",
    "### Example\n",
    "**Model 1**: Cat 80%, Dog 20%\n",
    "\n",
    "**Model 2:** Cat 60%, Dog 40%\n",
    "\n",
    "**Model 3:** Cat 40%, Dog 60%\n",
    "\n",
    "**Average:** \n",
    "Cat = (80+60+40)/3 = 60%\n",
    "Dog = (20+40+60)/3 = 40%\n",
    "→ **Final:** Cat"
   ]
  },
  {
   "cell_type": "markdown",
   "id": "60a87edc",
   "metadata": {
    "papermill": {
     "duration": 0.00583,
     "end_time": "2025-07-11T19:35:53.550622",
     "exception": false,
     "start_time": "2025-07-11T19:35:53.544792",
     "status": "completed"
    },
    "tags": []
   },
   "source": []
  },
  {
   "cell_type": "markdown",
   "id": "11788a8d",
   "metadata": {
    "papermill": {
     "duration": 0.005926,
     "end_time": "2025-07-11T19:35:53.562536",
     "exception": false,
     "start_time": "2025-07-11T19:35:53.556610",
     "status": "completed"
    },
    "tags": []
   },
   "source": [
    "###  In Simple Words\n",
    "Hard Voting: “Who gets the most votes?”\n",
    "\n",
    "Soft Voting: “Who has the highest average chance?”"
   ]
  },
  {
   "cell_type": "code",
   "execution_count": 1,
   "id": "816de03e",
   "metadata": {
    "execution": {
     "iopub.execute_input": "2025-07-11T19:35:53.576306Z",
     "iopub.status.busy": "2025-07-11T19:35:53.575900Z",
     "iopub.status.idle": "2025-07-11T19:35:55.620372Z",
     "shell.execute_reply": "2025-07-11T19:35:55.619432Z"
    },
    "papermill": {
     "duration": 2.053654,
     "end_time": "2025-07-11T19:35:55.622213",
     "exception": false,
     "start_time": "2025-07-11T19:35:53.568559",
     "status": "completed"
    },
    "tags": []
   },
   "outputs": [],
   "source": [
    "from sklearn.datasets import load_iris\n",
    "from sklearn.model_selection import train_test_split,cross_val_score\n",
    "from sklearn.linear_model import LogisticRegression\n",
    "from sklearn.tree import DecisionTreeClassifier\n",
    "from sklearn.neighbors import KNeighborsClassifier\n",
    "from sklearn.ensemble import VotingClassifier\n",
    "from sklearn.metrics import accuracy_score"
   ]
  },
  {
   "cell_type": "code",
   "execution_count": 2,
   "id": "0486b425",
   "metadata": {
    "execution": {
     "iopub.execute_input": "2025-07-11T19:35:55.636921Z",
     "iopub.status.busy": "2025-07-11T19:35:55.636075Z",
     "iopub.status.idle": "2025-07-11T19:35:55.646389Z",
     "shell.execute_reply": "2025-07-11T19:35:55.645573Z"
    },
    "papermill": {
     "duration": 0.019271,
     "end_time": "2025-07-11T19:35:55.647988",
     "exception": false,
     "start_time": "2025-07-11T19:35:55.628717",
     "status": "completed"
    },
    "tags": []
   },
   "outputs": [],
   "source": [
    "iris = load_iris()\n",
    "X, y = iris.data, iris.target"
   ]
  },
  {
   "cell_type": "code",
   "execution_count": 3,
   "id": "5375a83f",
   "metadata": {
    "execution": {
     "iopub.execute_input": "2025-07-11T19:35:55.662158Z",
     "iopub.status.busy": "2025-07-11T19:35:55.661834Z",
     "iopub.status.idle": "2025-07-11T19:35:55.668332Z",
     "shell.execute_reply": "2025-07-11T19:35:55.667547Z"
    },
    "papermill": {
     "duration": 0.015254,
     "end_time": "2025-07-11T19:35:55.669632",
     "exception": false,
     "start_time": "2025-07-11T19:35:55.654378",
     "status": "completed"
    },
    "tags": []
   },
   "outputs": [],
   "source": [
    "# Split: 70% train, 30% test\n",
    "X_train, X_test, y_train, y_test = train_test_split(X, y, test_size=0.3, random_state=42)"
   ]
  },
  {
   "cell_type": "code",
   "execution_count": 4,
   "id": "c358978e",
   "metadata": {
    "execution": {
     "iopub.execute_input": "2025-07-11T19:35:55.683924Z",
     "iopub.status.busy": "2025-07-11T19:35:55.683583Z",
     "iopub.status.idle": "2025-07-11T19:35:55.687782Z",
     "shell.execute_reply": "2025-07-11T19:35:55.687123Z"
    },
    "papermill": {
     "duration": 0.012681,
     "end_time": "2025-07-11T19:35:55.689118",
     "exception": false,
     "start_time": "2025-07-11T19:35:55.676437",
     "status": "completed"
    },
    "tags": []
   },
   "outputs": [],
   "source": [
    "## creating base model\n",
    "clf1 = LogisticRegression()\n",
    "clf2 = DecisionTreeClassifier()\n",
    "clf3 = KNeighborsClassifier()"
   ]
  },
  {
   "cell_type": "code",
   "execution_count": 5,
   "id": "0706d39e",
   "metadata": {
    "execution": {
     "iopub.execute_input": "2025-07-11T19:35:55.702941Z",
     "iopub.status.busy": "2025-07-11T19:35:55.702596Z",
     "iopub.status.idle": "2025-07-11T19:35:55.706912Z",
     "shell.execute_reply": "2025-07-11T19:35:55.706225Z"
    },
    "papermill": {
     "duration": 0.012891,
     "end_time": "2025-07-11T19:35:55.708209",
     "exception": false,
     "start_time": "2025-07-11T19:35:55.695318",
     "status": "completed"
    },
    "tags": []
   },
   "outputs": [],
   "source": [
    "## Hard voting\n",
    "hard_voting = VotingClassifier(\n",
    "    estimators=[\n",
    "        ('lr', clf1),\n",
    "        ('dt', clf2),\n",
    "        ('knn', clf3)\n",
    "    ],\n",
    "    voting='hard'  # This means hard voting\n",
    ")"
   ]
  },
  {
   "cell_type": "code",
   "execution_count": 6,
   "id": "e7ef7c34",
   "metadata": {
    "execution": {
     "iopub.execute_input": "2025-07-11T19:35:55.787656Z",
     "iopub.status.busy": "2025-07-11T19:35:55.787338Z",
     "iopub.status.idle": "2025-07-11T19:35:55.881837Z",
     "shell.execute_reply": "2025-07-11T19:35:55.881089Z"
    },
    "papermill": {
     "duration": 0.169144,
     "end_time": "2025-07-11T19:35:55.883718",
     "exception": false,
     "start_time": "2025-07-11T19:35:55.714574",
     "status": "completed"
    },
    "tags": []
   },
   "outputs": [
    {
     "data": {
      "text/html": [
       "<style>#sk-container-id-1 {color: black;background-color: white;}#sk-container-id-1 pre{padding: 0;}#sk-container-id-1 div.sk-toggleable {background-color: white;}#sk-container-id-1 label.sk-toggleable__label {cursor: pointer;display: block;width: 100%;margin-bottom: 0;padding: 0.3em;box-sizing: border-box;text-align: center;}#sk-container-id-1 label.sk-toggleable__label-arrow:before {content: \"▸\";float: left;margin-right: 0.25em;color: #696969;}#sk-container-id-1 label.sk-toggleable__label-arrow:hover:before {color: black;}#sk-container-id-1 div.sk-estimator:hover label.sk-toggleable__label-arrow:before {color: black;}#sk-container-id-1 div.sk-toggleable__content {max-height: 0;max-width: 0;overflow: hidden;text-align: left;background-color: #f0f8ff;}#sk-container-id-1 div.sk-toggleable__content pre {margin: 0.2em;color: black;border-radius: 0.25em;background-color: #f0f8ff;}#sk-container-id-1 input.sk-toggleable__control:checked~div.sk-toggleable__content {max-height: 200px;max-width: 100%;overflow: auto;}#sk-container-id-1 input.sk-toggleable__control:checked~label.sk-toggleable__label-arrow:before {content: \"▾\";}#sk-container-id-1 div.sk-estimator input.sk-toggleable__control:checked~label.sk-toggleable__label {background-color: #d4ebff;}#sk-container-id-1 div.sk-label input.sk-toggleable__control:checked~label.sk-toggleable__label {background-color: #d4ebff;}#sk-container-id-1 input.sk-hidden--visually {border: 0;clip: rect(1px 1px 1px 1px);clip: rect(1px, 1px, 1px, 1px);height: 1px;margin: -1px;overflow: hidden;padding: 0;position: absolute;width: 1px;}#sk-container-id-1 div.sk-estimator {font-family: monospace;background-color: #f0f8ff;border: 1px dotted black;border-radius: 0.25em;box-sizing: border-box;margin-bottom: 0.5em;}#sk-container-id-1 div.sk-estimator:hover {background-color: #d4ebff;}#sk-container-id-1 div.sk-parallel-item::after {content: \"\";width: 100%;border-bottom: 1px solid gray;flex-grow: 1;}#sk-container-id-1 div.sk-label:hover label.sk-toggleable__label {background-color: #d4ebff;}#sk-container-id-1 div.sk-serial::before {content: \"\";position: absolute;border-left: 1px solid gray;box-sizing: border-box;top: 0;bottom: 0;left: 50%;z-index: 0;}#sk-container-id-1 div.sk-serial {display: flex;flex-direction: column;align-items: center;background-color: white;padding-right: 0.2em;padding-left: 0.2em;position: relative;}#sk-container-id-1 div.sk-item {position: relative;z-index: 1;}#sk-container-id-1 div.sk-parallel {display: flex;align-items: stretch;justify-content: center;background-color: white;position: relative;}#sk-container-id-1 div.sk-item::before, #sk-container-id-1 div.sk-parallel-item::before {content: \"\";position: absolute;border-left: 1px solid gray;box-sizing: border-box;top: 0;bottom: 0;left: 50%;z-index: -1;}#sk-container-id-1 div.sk-parallel-item {display: flex;flex-direction: column;z-index: 1;position: relative;background-color: white;}#sk-container-id-1 div.sk-parallel-item:first-child::after {align-self: flex-end;width: 50%;}#sk-container-id-1 div.sk-parallel-item:last-child::after {align-self: flex-start;width: 50%;}#sk-container-id-1 div.sk-parallel-item:only-child::after {width: 0;}#sk-container-id-1 div.sk-dashed-wrapped {border: 1px dashed gray;margin: 0 0.4em 0.5em 0.4em;box-sizing: border-box;padding-bottom: 0.4em;background-color: white;}#sk-container-id-1 div.sk-label label {font-family: monospace;font-weight: bold;display: inline-block;line-height: 1.2em;}#sk-container-id-1 div.sk-label-container {text-align: center;}#sk-container-id-1 div.sk-container {/* jupyter's `normalize.less` sets `[hidden] { display: none; }` but bootstrap.min.css set `[hidden] { display: none !important; }` so we also need the `!important` here to be able to override the default hidden behavior on the sphinx rendered scikit-learn.org. See: https://github.com/scikit-learn/scikit-learn/issues/21755 */display: inline-block !important;position: relative;}#sk-container-id-1 div.sk-text-repr-fallback {display: none;}</style><div id=\"sk-container-id-1\" class=\"sk-top-container\"><div class=\"sk-text-repr-fallback\"><pre>VotingClassifier(estimators=[(&#x27;lr&#x27;, LogisticRegression()),\n",
       "                             (&#x27;dt&#x27;, DecisionTreeClassifier()),\n",
       "                             (&#x27;knn&#x27;, KNeighborsClassifier())])</pre><b>In a Jupyter environment, please rerun this cell to show the HTML representation or trust the notebook. <br />On GitHub, the HTML representation is unable to render, please try loading this page with nbviewer.org.</b></div><div class=\"sk-container\" hidden><div class=\"sk-item sk-dashed-wrapped\"><div class=\"sk-label-container\"><div class=\"sk-label sk-toggleable\"><input class=\"sk-toggleable__control sk-hidden--visually\" id=\"sk-estimator-id-1\" type=\"checkbox\" ><label for=\"sk-estimator-id-1\" class=\"sk-toggleable__label sk-toggleable__label-arrow\">VotingClassifier</label><div class=\"sk-toggleable__content\"><pre>VotingClassifier(estimators=[(&#x27;lr&#x27;, LogisticRegression()),\n",
       "                             (&#x27;dt&#x27;, DecisionTreeClassifier()),\n",
       "                             (&#x27;knn&#x27;, KNeighborsClassifier())])</pre></div></div></div><div class=\"sk-parallel\"><div class=\"sk-parallel-item\"><div class=\"sk-item\"><div class=\"sk-label-container\"><div class=\"sk-label sk-toggleable\"><label>lr</label></div></div><div class=\"sk-serial\"><div class=\"sk-item\"><div class=\"sk-estimator sk-toggleable\"><input class=\"sk-toggleable__control sk-hidden--visually\" id=\"sk-estimator-id-2\" type=\"checkbox\" ><label for=\"sk-estimator-id-2\" class=\"sk-toggleable__label sk-toggleable__label-arrow\">LogisticRegression</label><div class=\"sk-toggleable__content\"><pre>LogisticRegression()</pre></div></div></div></div></div></div><div class=\"sk-parallel-item\"><div class=\"sk-item\"><div class=\"sk-label-container\"><div class=\"sk-label sk-toggleable\"><label>dt</label></div></div><div class=\"sk-serial\"><div class=\"sk-item\"><div class=\"sk-estimator sk-toggleable\"><input class=\"sk-toggleable__control sk-hidden--visually\" id=\"sk-estimator-id-3\" type=\"checkbox\" ><label for=\"sk-estimator-id-3\" class=\"sk-toggleable__label sk-toggleable__label-arrow\">DecisionTreeClassifier</label><div class=\"sk-toggleable__content\"><pre>DecisionTreeClassifier()</pre></div></div></div></div></div></div><div class=\"sk-parallel-item\"><div class=\"sk-item\"><div class=\"sk-label-container\"><div class=\"sk-label sk-toggleable\"><label>knn</label></div></div><div class=\"sk-serial\"><div class=\"sk-item\"><div class=\"sk-estimator sk-toggleable\"><input class=\"sk-toggleable__control sk-hidden--visually\" id=\"sk-estimator-id-4\" type=\"checkbox\" ><label for=\"sk-estimator-id-4\" class=\"sk-toggleable__label sk-toggleable__label-arrow\">KNeighborsClassifier</label><div class=\"sk-toggleable__content\"><pre>KNeighborsClassifier()</pre></div></div></div></div></div></div></div></div></div></div>"
      ],
      "text/plain": [
       "VotingClassifier(estimators=[('lr', LogisticRegression()),\n",
       "                             ('dt', DecisionTreeClassifier()),\n",
       "                             ('knn', KNeighborsClassifier())])"
      ]
     },
     "execution_count": 6,
     "metadata": {},
     "output_type": "execute_result"
    }
   ],
   "source": [
    "# Train\n",
    "hard_voting.fit(X_train, y_train)"
   ]
  },
  {
   "cell_type": "code",
   "execution_count": 7,
   "id": "35f68a6f",
   "metadata": {
    "execution": {
     "iopub.execute_input": "2025-07-11T19:35:55.907325Z",
     "iopub.status.busy": "2025-07-11T19:35:55.906994Z",
     "iopub.status.idle": "2025-07-11T19:35:55.920415Z",
     "shell.execute_reply": "2025-07-11T19:35:55.919646Z"
    },
    "papermill": {
     "duration": 0.027188,
     "end_time": "2025-07-11T19:35:55.922243",
     "exception": false,
     "start_time": "2025-07-11T19:35:55.895055",
     "status": "completed"
    },
    "tags": []
   },
   "outputs": [],
   "source": [
    "# Predict\n",
    "y_pred_hard = hard_voting.predict(X_test)\n"
   ]
  },
  {
   "cell_type": "code",
   "execution_count": 8,
   "id": "436cafd2",
   "metadata": {
    "execution": {
     "iopub.execute_input": "2025-07-11T19:35:55.946124Z",
     "iopub.status.busy": "2025-07-11T19:35:55.945664Z",
     "iopub.status.idle": "2025-07-11T19:35:55.954766Z",
     "shell.execute_reply": "2025-07-11T19:35:55.954099Z"
    },
    "papermill": {
     "duration": 0.022606,
     "end_time": "2025-07-11T19:35:55.956323",
     "exception": false,
     "start_time": "2025-07-11T19:35:55.933717",
     "status": "completed"
    },
    "tags": []
   },
   "outputs": [
    {
     "name": "stdout",
     "output_type": "stream",
     "text": [
      "Hard Voting Accuracy: 1.0\n"
     ]
    }
   ],
   "source": [
    "print(\"Hard Voting Accuracy:\", accuracy_score(y_test, y_pred_hard))"
   ]
  },
  {
   "cell_type": "code",
   "execution_count": 9,
   "id": "9b5ae1dc",
   "metadata": {
    "execution": {
     "iopub.execute_input": "2025-07-11T19:35:55.981043Z",
     "iopub.status.busy": "2025-07-11T19:35:55.980483Z",
     "iopub.status.idle": "2025-07-11T19:35:55.985432Z",
     "shell.execute_reply": "2025-07-11T19:35:55.984752Z"
    },
    "papermill": {
     "duration": 0.018513,
     "end_time": "2025-07-11T19:35:55.986758",
     "exception": false,
     "start_time": "2025-07-11T19:35:55.968245",
     "status": "completed"
    },
    "tags": []
   },
   "outputs": [],
   "source": [
    "# Soft Voting (average probabilities)\n",
    "soft_voting = VotingClassifier(\n",
    "    estimators=[\n",
    "        ('lr', clf1),\n",
    "        ('dt', clf2),\n",
    "        ('knn', clf3)\n",
    "    ],\n",
    "    voting='soft'  # This means soft voting\n",
    ")"
   ]
  },
  {
   "cell_type": "code",
   "execution_count": 10,
   "id": "6d357251",
   "metadata": {
    "execution": {
     "iopub.execute_input": "2025-07-11T19:35:56.001961Z",
     "iopub.status.busy": "2025-07-11T19:35:56.001165Z",
     "iopub.status.idle": "2025-07-11T19:35:56.044777Z",
     "shell.execute_reply": "2025-07-11T19:35:56.043970Z"
    },
    "papermill": {
     "duration": 0.052948,
     "end_time": "2025-07-11T19:35:56.046696",
     "exception": false,
     "start_time": "2025-07-11T19:35:55.993748",
     "status": "completed"
    },
    "tags": []
   },
   "outputs": [
    {
     "data": {
      "text/html": [
       "<style>#sk-container-id-2 {color: black;background-color: white;}#sk-container-id-2 pre{padding: 0;}#sk-container-id-2 div.sk-toggleable {background-color: white;}#sk-container-id-2 label.sk-toggleable__label {cursor: pointer;display: block;width: 100%;margin-bottom: 0;padding: 0.3em;box-sizing: border-box;text-align: center;}#sk-container-id-2 label.sk-toggleable__label-arrow:before {content: \"▸\";float: left;margin-right: 0.25em;color: #696969;}#sk-container-id-2 label.sk-toggleable__label-arrow:hover:before {color: black;}#sk-container-id-2 div.sk-estimator:hover label.sk-toggleable__label-arrow:before {color: black;}#sk-container-id-2 div.sk-toggleable__content {max-height: 0;max-width: 0;overflow: hidden;text-align: left;background-color: #f0f8ff;}#sk-container-id-2 div.sk-toggleable__content pre {margin: 0.2em;color: black;border-radius: 0.25em;background-color: #f0f8ff;}#sk-container-id-2 input.sk-toggleable__control:checked~div.sk-toggleable__content {max-height: 200px;max-width: 100%;overflow: auto;}#sk-container-id-2 input.sk-toggleable__control:checked~label.sk-toggleable__label-arrow:before {content: \"▾\";}#sk-container-id-2 div.sk-estimator input.sk-toggleable__control:checked~label.sk-toggleable__label {background-color: #d4ebff;}#sk-container-id-2 div.sk-label input.sk-toggleable__control:checked~label.sk-toggleable__label {background-color: #d4ebff;}#sk-container-id-2 input.sk-hidden--visually {border: 0;clip: rect(1px 1px 1px 1px);clip: rect(1px, 1px, 1px, 1px);height: 1px;margin: -1px;overflow: hidden;padding: 0;position: absolute;width: 1px;}#sk-container-id-2 div.sk-estimator {font-family: monospace;background-color: #f0f8ff;border: 1px dotted black;border-radius: 0.25em;box-sizing: border-box;margin-bottom: 0.5em;}#sk-container-id-2 div.sk-estimator:hover {background-color: #d4ebff;}#sk-container-id-2 div.sk-parallel-item::after {content: \"\";width: 100%;border-bottom: 1px solid gray;flex-grow: 1;}#sk-container-id-2 div.sk-label:hover label.sk-toggleable__label {background-color: #d4ebff;}#sk-container-id-2 div.sk-serial::before {content: \"\";position: absolute;border-left: 1px solid gray;box-sizing: border-box;top: 0;bottom: 0;left: 50%;z-index: 0;}#sk-container-id-2 div.sk-serial {display: flex;flex-direction: column;align-items: center;background-color: white;padding-right: 0.2em;padding-left: 0.2em;position: relative;}#sk-container-id-2 div.sk-item {position: relative;z-index: 1;}#sk-container-id-2 div.sk-parallel {display: flex;align-items: stretch;justify-content: center;background-color: white;position: relative;}#sk-container-id-2 div.sk-item::before, #sk-container-id-2 div.sk-parallel-item::before {content: \"\";position: absolute;border-left: 1px solid gray;box-sizing: border-box;top: 0;bottom: 0;left: 50%;z-index: -1;}#sk-container-id-2 div.sk-parallel-item {display: flex;flex-direction: column;z-index: 1;position: relative;background-color: white;}#sk-container-id-2 div.sk-parallel-item:first-child::after {align-self: flex-end;width: 50%;}#sk-container-id-2 div.sk-parallel-item:last-child::after {align-self: flex-start;width: 50%;}#sk-container-id-2 div.sk-parallel-item:only-child::after {width: 0;}#sk-container-id-2 div.sk-dashed-wrapped {border: 1px dashed gray;margin: 0 0.4em 0.5em 0.4em;box-sizing: border-box;padding-bottom: 0.4em;background-color: white;}#sk-container-id-2 div.sk-label label {font-family: monospace;font-weight: bold;display: inline-block;line-height: 1.2em;}#sk-container-id-2 div.sk-label-container {text-align: center;}#sk-container-id-2 div.sk-container {/* jupyter's `normalize.less` sets `[hidden] { display: none; }` but bootstrap.min.css set `[hidden] { display: none !important; }` so we also need the `!important` here to be able to override the default hidden behavior on the sphinx rendered scikit-learn.org. See: https://github.com/scikit-learn/scikit-learn/issues/21755 */display: inline-block !important;position: relative;}#sk-container-id-2 div.sk-text-repr-fallback {display: none;}</style><div id=\"sk-container-id-2\" class=\"sk-top-container\"><div class=\"sk-text-repr-fallback\"><pre>VotingClassifier(estimators=[(&#x27;lr&#x27;, LogisticRegression()),\n",
       "                             (&#x27;dt&#x27;, DecisionTreeClassifier()),\n",
       "                             (&#x27;knn&#x27;, KNeighborsClassifier())],\n",
       "                 voting=&#x27;soft&#x27;)</pre><b>In a Jupyter environment, please rerun this cell to show the HTML representation or trust the notebook. <br />On GitHub, the HTML representation is unable to render, please try loading this page with nbviewer.org.</b></div><div class=\"sk-container\" hidden><div class=\"sk-item sk-dashed-wrapped\"><div class=\"sk-label-container\"><div class=\"sk-label sk-toggleable\"><input class=\"sk-toggleable__control sk-hidden--visually\" id=\"sk-estimator-id-5\" type=\"checkbox\" ><label for=\"sk-estimator-id-5\" class=\"sk-toggleable__label sk-toggleable__label-arrow\">VotingClassifier</label><div class=\"sk-toggleable__content\"><pre>VotingClassifier(estimators=[(&#x27;lr&#x27;, LogisticRegression()),\n",
       "                             (&#x27;dt&#x27;, DecisionTreeClassifier()),\n",
       "                             (&#x27;knn&#x27;, KNeighborsClassifier())],\n",
       "                 voting=&#x27;soft&#x27;)</pre></div></div></div><div class=\"sk-parallel\"><div class=\"sk-parallel-item\"><div class=\"sk-item\"><div class=\"sk-label-container\"><div class=\"sk-label sk-toggleable\"><label>lr</label></div></div><div class=\"sk-serial\"><div class=\"sk-item\"><div class=\"sk-estimator sk-toggleable\"><input class=\"sk-toggleable__control sk-hidden--visually\" id=\"sk-estimator-id-6\" type=\"checkbox\" ><label for=\"sk-estimator-id-6\" class=\"sk-toggleable__label sk-toggleable__label-arrow\">LogisticRegression</label><div class=\"sk-toggleable__content\"><pre>LogisticRegression()</pre></div></div></div></div></div></div><div class=\"sk-parallel-item\"><div class=\"sk-item\"><div class=\"sk-label-container\"><div class=\"sk-label sk-toggleable\"><label>dt</label></div></div><div class=\"sk-serial\"><div class=\"sk-item\"><div class=\"sk-estimator sk-toggleable\"><input class=\"sk-toggleable__control sk-hidden--visually\" id=\"sk-estimator-id-7\" type=\"checkbox\" ><label for=\"sk-estimator-id-7\" class=\"sk-toggleable__label sk-toggleable__label-arrow\">DecisionTreeClassifier</label><div class=\"sk-toggleable__content\"><pre>DecisionTreeClassifier()</pre></div></div></div></div></div></div><div class=\"sk-parallel-item\"><div class=\"sk-item\"><div class=\"sk-label-container\"><div class=\"sk-label sk-toggleable\"><label>knn</label></div></div><div class=\"sk-serial\"><div class=\"sk-item\"><div class=\"sk-estimator sk-toggleable\"><input class=\"sk-toggleable__control sk-hidden--visually\" id=\"sk-estimator-id-8\" type=\"checkbox\" ><label for=\"sk-estimator-id-8\" class=\"sk-toggleable__label sk-toggleable__label-arrow\">KNeighborsClassifier</label><div class=\"sk-toggleable__content\"><pre>KNeighborsClassifier()</pre></div></div></div></div></div></div></div></div></div></div>"
      ],
      "text/plain": [
       "VotingClassifier(estimators=[('lr', LogisticRegression()),\n",
       "                             ('dt', DecisionTreeClassifier()),\n",
       "                             ('knn', KNeighborsClassifier())],\n",
       "                 voting='soft')"
      ]
     },
     "execution_count": 10,
     "metadata": {},
     "output_type": "execute_result"
    }
   ],
   "source": [
    "# Train\n",
    "soft_voting.fit(X_train, y_train)"
   ]
  },
  {
   "cell_type": "code",
   "execution_count": 11,
   "id": "15e02448",
   "metadata": {
    "execution": {
     "iopub.execute_input": "2025-07-11T19:35:56.072680Z",
     "iopub.status.busy": "2025-07-11T19:35:56.070809Z",
     "iopub.status.idle": "2025-07-11T19:35:56.079197Z",
     "shell.execute_reply": "2025-07-11T19:35:56.078452Z"
    },
    "papermill": {
     "duration": 0.02269,
     "end_time": "2025-07-11T19:35:56.081119",
     "exception": false,
     "start_time": "2025-07-11T19:35:56.058429",
     "status": "completed"
    },
    "tags": []
   },
   "outputs": [],
   "source": [
    "# Predict\n",
    "y_pred_soft = soft_voting.predict(X_test)\n"
   ]
  },
  {
   "cell_type": "code",
   "execution_count": 12,
   "id": "c7ffaa21",
   "metadata": {
    "execution": {
     "iopub.execute_input": "2025-07-11T19:35:56.105664Z",
     "iopub.status.busy": "2025-07-11T19:35:56.105337Z",
     "iopub.status.idle": "2025-07-11T19:35:56.112729Z",
     "shell.execute_reply": "2025-07-11T19:35:56.111796Z"
    },
    "papermill": {
     "duration": 0.02136,
     "end_time": "2025-07-11T19:35:56.114514",
     "exception": false,
     "start_time": "2025-07-11T19:35:56.093154",
     "status": "completed"
    },
    "tags": []
   },
   "outputs": [
    {
     "name": "stdout",
     "output_type": "stream",
     "text": [
      "Soft Voting Accuracy: 1.0\n"
     ]
    }
   ],
   "source": [
    "print(\"Soft Voting Accuracy:\", accuracy_score(y_test, y_pred_soft))"
   ]
  },
  {
   "cell_type": "markdown",
   "id": "d295c27e",
   "metadata": {
    "papermill": {
     "duration": 0.011112,
     "end_time": "2025-07-11T19:35:56.137623",
     "exception": false,
     "start_time": "2025-07-11T19:35:56.126511",
     "status": "completed"
    },
    "tags": []
   },
   "source": [
    "## Weight parameter\n",
    "weights = [w1, w2, w3]\n",
    "w1 → Weight for first estimator.\n",
    "\n",
    "w2 → Weight for second estimator.\n",
    "\n",
    "w3 → Weight for third estimator.\n",
    "\n",
    "Default is equal weight (all weights = 1)."
   ]
  },
  {
   "cell_type": "markdown",
   "id": "89a23a06",
   "metadata": {
    "papermill": {
     "duration": 0.007684,
     "end_time": "2025-07-11T19:35:56.156791",
     "exception": false,
     "start_time": "2025-07-11T19:35:56.149107",
     "status": "completed"
    },
    "tags": []
   },
   "source": []
  },
  {
   "cell_type": "code",
   "execution_count": 13,
   "id": "0e6b6805",
   "metadata": {
    "execution": {
     "iopub.execute_input": "2025-07-11T19:35:56.172405Z",
     "iopub.status.busy": "2025-07-11T19:35:56.171579Z",
     "iopub.status.idle": "2025-07-11T19:35:56.213144Z",
     "shell.execute_reply": "2025-07-11T19:35:56.211114Z"
    },
    "papermill": {
     "duration": 0.050935,
     "end_time": "2025-07-11T19:35:56.214728",
     "exception": false,
     "start_time": "2025-07-11T19:35:56.163793",
     "status": "completed"
    },
    "tags": []
   },
   "outputs": [
    {
     "name": "stdout",
     "output_type": "stream",
     "text": [
      "Hard Voting (Weighted) Accuracy: 1.0\n"
     ]
    }
   ],
   "source": [
    "# Example: Give Logistic Regression more weight\n",
    "hard_voting = VotingClassifier(\n",
    "    estimators=[\n",
    "        ('lr', clf1),\n",
    "        ('dt', clf2),\n",
    "        ('knn', clf3)\n",
    "    ],\n",
    "    voting='hard',\n",
    "    weights=[2, 1, 1]  # LR vote counts 2x\n",
    ")\n",
    "\n",
    "hard_voting.fit(X_train, y_train)\n",
    "y_pred_hard = hard_voting.predict(X_test)\n",
    "\n",
    "print(\"Hard Voting (Weighted) Accuracy:\", accuracy_score(y_test, y_pred_hard))"
   ]
  },
  {
   "cell_type": "code",
   "execution_count": 14,
   "id": "890a8fe6",
   "metadata": {
    "execution": {
     "iopub.execute_input": "2025-07-11T19:35:56.239620Z",
     "iopub.status.busy": "2025-07-11T19:35:56.239288Z",
     "iopub.status.idle": "2025-07-11T19:35:56.278225Z",
     "shell.execute_reply": "2025-07-11T19:35:56.276530Z"
    },
    "papermill": {
     "duration": 0.053226,
     "end_time": "2025-07-11T19:35:56.279992",
     "exception": false,
     "start_time": "2025-07-11T19:35:56.226766",
     "status": "completed"
    },
    "tags": []
   },
   "outputs": [
    {
     "name": "stdout",
     "output_type": "stream",
     "text": [
      "Soft Voting (Weighted) Accuracy: 1.0\n"
     ]
    }
   ],
   "source": [
    "soft_voting = VotingClassifier(\n",
    "    estimators=[\n",
    "        ('lr', clf1),\n",
    "        ('dt', clf2),\n",
    "        ('knn', clf3)\n",
    "    ],\n",
    "    voting='soft',\n",
    "    weights=[2, 1, 1]  # 👈 LR probability counts 2x\n",
    ")\n",
    "\n",
    "soft_voting.fit(X_train, y_train)\n",
    "y_pred_soft = soft_voting.predict(X_test)\n",
    "\n",
    "print(\"Soft Voting (Weighted) Accuracy:\", accuracy_score(y_test, y_pred_soft))"
   ]
  },
  {
   "cell_type": "code",
   "execution_count": 15,
   "id": "13b6da22",
   "metadata": {
    "execution": {
     "iopub.execute_input": "2025-07-11T19:35:56.305963Z",
     "iopub.status.busy": "2025-07-11T19:35:56.304647Z",
     "iopub.status.idle": "2025-07-11T19:35:56.480349Z",
     "shell.execute_reply": "2025-07-11T19:35:56.479473Z"
    },
    "papermill": {
     "duration": 0.190205,
     "end_time": "2025-07-11T19:35:56.481984",
     "exception": false,
     "start_time": "2025-07-11T19:35:56.291779",
     "status": "completed"
    },
    "tags": []
   },
   "outputs": [
    {
     "name": "stderr",
     "output_type": "stream",
     "text": [
      "/usr/local/lib/python3.11/dist-packages/sklearn/linear_model/_logistic.py:458: ConvergenceWarning: lbfgs failed to converge (status=1):\n",
      "STOP: TOTAL NO. OF ITERATIONS REACHED LIMIT.\n",
      "\n",
      "Increase the number of iterations (max_iter) or scale the data as shown in:\n",
      "    https://scikit-learn.org/stable/modules/preprocessing.html\n",
      "Please also refer to the documentation for alternative solver options:\n",
      "    https://scikit-learn.org/stable/modules/linear_model.html#logistic-regression\n",
      "  n_iter_i = _check_optimize_result(\n"
     ]
    }
   ],
   "source": [
    "# Run cross-validation (5-fold)\n",
    "scores = cross_val_score(hard_voting, X, y, cv=5)"
   ]
  },
  {
   "cell_type": "code",
   "execution_count": 16,
   "id": "3462b619",
   "metadata": {
    "execution": {
     "iopub.execute_input": "2025-07-11T19:35:56.521388Z",
     "iopub.status.busy": "2025-07-11T19:35:56.521034Z",
     "iopub.status.idle": "2025-07-11T19:35:56.531614Z",
     "shell.execute_reply": "2025-07-11T19:35:56.530632Z"
    },
    "papermill": {
     "duration": 0.039429,
     "end_time": "2025-07-11T19:35:56.533575",
     "exception": false,
     "start_time": "2025-07-11T19:35:56.494146",
     "status": "completed"
    },
    "tags": []
   },
   "outputs": [
    {
     "data": {
      "text/plain": [
       "array([0.96666667, 1.        , 0.93333333, 0.96666667, 1.        ])"
      ]
     },
     "execution_count": 16,
     "metadata": {},
     "output_type": "execute_result"
    }
   ],
   "source": [
    "scores"
   ]
  },
  {
   "cell_type": "markdown",
   "id": "f62939f4",
   "metadata": {
    "papermill": {
     "duration": 0.016661,
     "end_time": "2025-07-11T19:35:56.567748",
     "exception": false,
     "start_time": "2025-07-11T19:35:56.551087",
     "status": "completed"
    },
    "tags": []
   },
   "source": [
    "# Voting Regressor\n",
    "for regression problem.\n",
    "Train multiple regressors on the same data.\n",
    "\n",
    "Each model makes its own prediction.\n",
    "\n",
    "The Voting Regressor averages these predictions.\n",
    "\n",
    "This average is  final prediction."
   ]
  },
  {
   "cell_type": "code",
   "execution_count": 17,
   "id": "3a62c6bf",
   "metadata": {
    "execution": {
     "iopub.execute_input": "2025-07-11T19:35:56.597015Z",
     "iopub.status.busy": "2025-07-11T19:35:56.596227Z",
     "iopub.status.idle": "2025-07-11T19:35:56.602075Z",
     "shell.execute_reply": "2025-07-11T19:35:56.600874Z"
    },
    "papermill": {
     "duration": 0.022618,
     "end_time": "2025-07-11T19:35:56.603963",
     "exception": false,
     "start_time": "2025-07-11T19:35:56.581345",
     "status": "completed"
    },
    "tags": []
   },
   "outputs": [],
   "source": [
    "from sklearn.ensemble import VotingRegressor\n",
    "from sklearn.linear_model import LinearRegression\n",
    "from sklearn.tree import DecisionTreeRegressor\n",
    "from sklearn.neighbors import KNeighborsRegressor\n",
    "from sklearn.datasets import make_regression\n",
    "from sklearn.model_selection import train_test_split"
   ]
  },
  {
   "cell_type": "code",
   "execution_count": 18,
   "id": "62f63139",
   "metadata": {
    "execution": {
     "iopub.execute_input": "2025-07-11T19:35:56.620607Z",
     "iopub.status.busy": "2025-07-11T19:35:56.620313Z",
     "iopub.status.idle": "2025-07-11T19:35:56.633073Z",
     "shell.execute_reply": "2025-07-11T19:35:56.631900Z"
    },
    "papermill": {
     "duration": 0.023015,
     "end_time": "2025-07-11T19:35:56.635092",
     "exception": false,
     "start_time": "2025-07-11T19:35:56.612077",
     "status": "completed"
    },
    "tags": []
   },
   "outputs": [],
   "source": [
    "# Sample data\n",
    "X, y = make_regression(n_samples=100, n_features=1, noise=0.1, random_state=42)\n",
    "X_train, X_test, y_train, y_test = train_test_split(X, y, test_size=0.2, random_state=42)"
   ]
  },
  {
   "cell_type": "code",
   "execution_count": 19,
   "id": "0170acd2",
   "metadata": {
    "execution": {
     "iopub.execute_input": "2025-07-11T19:35:56.655422Z",
     "iopub.status.busy": "2025-07-11T19:35:56.655102Z",
     "iopub.status.idle": "2025-07-11T19:35:56.660441Z",
     "shell.execute_reply": "2025-07-11T19:35:56.659554Z"
    },
    "papermill": {
     "duration": 0.016686,
     "end_time": "2025-07-11T19:35:56.661816",
     "exception": false,
     "start_time": "2025-07-11T19:35:56.645130",
     "status": "completed"
    },
    "tags": []
   },
   "outputs": [],
   "source": [
    "# Define base regressors\n",
    "lr = LinearRegression()\n",
    "dt = DecisionTreeRegressor()\n",
    "knn = KNeighborsRegressor()"
   ]
  },
  {
   "cell_type": "code",
   "execution_count": 20,
   "id": "e41592fc",
   "metadata": {
    "execution": {
     "iopub.execute_input": "2025-07-11T19:35:56.696811Z",
     "iopub.status.busy": "2025-07-11T19:35:56.695718Z",
     "iopub.status.idle": "2025-07-11T19:35:56.701030Z",
     "shell.execute_reply": "2025-07-11T19:35:56.699962Z"
    },
    "papermill": {
     "duration": 0.024336,
     "end_time": "2025-07-11T19:35:56.702419",
     "exception": false,
     "start_time": "2025-07-11T19:35:56.678083",
     "status": "completed"
    },
    "tags": []
   },
   "outputs": [],
   "source": [
    "# Create Voting Regressor\n",
    "voting_reg = VotingRegressor(\n",
    "    estimators=[\n",
    "        ('lr', lr),\n",
    "        ('dt', dt),\n",
    "        ('knn', knn)\n",
    "    ]\n",
    ")"
   ]
  },
  {
   "cell_type": "code",
   "execution_count": 21,
   "id": "ae94614b",
   "metadata": {
    "execution": {
     "iopub.execute_input": "2025-07-11T19:35:56.726050Z",
     "iopub.status.busy": "2025-07-11T19:35:56.725690Z",
     "iopub.status.idle": "2025-07-11T19:35:56.753295Z",
     "shell.execute_reply": "2025-07-11T19:35:56.752500Z"
    },
    "papermill": {
     "duration": 0.043089,
     "end_time": "2025-07-11T19:35:56.754824",
     "exception": false,
     "start_time": "2025-07-11T19:35:56.711735",
     "status": "completed"
    },
    "tags": []
   },
   "outputs": [
    {
     "data": {
      "text/html": [
       "<style>#sk-container-id-3 {color: black;background-color: white;}#sk-container-id-3 pre{padding: 0;}#sk-container-id-3 div.sk-toggleable {background-color: white;}#sk-container-id-3 label.sk-toggleable__label {cursor: pointer;display: block;width: 100%;margin-bottom: 0;padding: 0.3em;box-sizing: border-box;text-align: center;}#sk-container-id-3 label.sk-toggleable__label-arrow:before {content: \"▸\";float: left;margin-right: 0.25em;color: #696969;}#sk-container-id-3 label.sk-toggleable__label-arrow:hover:before {color: black;}#sk-container-id-3 div.sk-estimator:hover label.sk-toggleable__label-arrow:before {color: black;}#sk-container-id-3 div.sk-toggleable__content {max-height: 0;max-width: 0;overflow: hidden;text-align: left;background-color: #f0f8ff;}#sk-container-id-3 div.sk-toggleable__content pre {margin: 0.2em;color: black;border-radius: 0.25em;background-color: #f0f8ff;}#sk-container-id-3 input.sk-toggleable__control:checked~div.sk-toggleable__content {max-height: 200px;max-width: 100%;overflow: auto;}#sk-container-id-3 input.sk-toggleable__control:checked~label.sk-toggleable__label-arrow:before {content: \"▾\";}#sk-container-id-3 div.sk-estimator input.sk-toggleable__control:checked~label.sk-toggleable__label {background-color: #d4ebff;}#sk-container-id-3 div.sk-label input.sk-toggleable__control:checked~label.sk-toggleable__label {background-color: #d4ebff;}#sk-container-id-3 input.sk-hidden--visually {border: 0;clip: rect(1px 1px 1px 1px);clip: rect(1px, 1px, 1px, 1px);height: 1px;margin: -1px;overflow: hidden;padding: 0;position: absolute;width: 1px;}#sk-container-id-3 div.sk-estimator {font-family: monospace;background-color: #f0f8ff;border: 1px dotted black;border-radius: 0.25em;box-sizing: border-box;margin-bottom: 0.5em;}#sk-container-id-3 div.sk-estimator:hover {background-color: #d4ebff;}#sk-container-id-3 div.sk-parallel-item::after {content: \"\";width: 100%;border-bottom: 1px solid gray;flex-grow: 1;}#sk-container-id-3 div.sk-label:hover label.sk-toggleable__label {background-color: #d4ebff;}#sk-container-id-3 div.sk-serial::before {content: \"\";position: absolute;border-left: 1px solid gray;box-sizing: border-box;top: 0;bottom: 0;left: 50%;z-index: 0;}#sk-container-id-3 div.sk-serial {display: flex;flex-direction: column;align-items: center;background-color: white;padding-right: 0.2em;padding-left: 0.2em;position: relative;}#sk-container-id-3 div.sk-item {position: relative;z-index: 1;}#sk-container-id-3 div.sk-parallel {display: flex;align-items: stretch;justify-content: center;background-color: white;position: relative;}#sk-container-id-3 div.sk-item::before, #sk-container-id-3 div.sk-parallel-item::before {content: \"\";position: absolute;border-left: 1px solid gray;box-sizing: border-box;top: 0;bottom: 0;left: 50%;z-index: -1;}#sk-container-id-3 div.sk-parallel-item {display: flex;flex-direction: column;z-index: 1;position: relative;background-color: white;}#sk-container-id-3 div.sk-parallel-item:first-child::after {align-self: flex-end;width: 50%;}#sk-container-id-3 div.sk-parallel-item:last-child::after {align-self: flex-start;width: 50%;}#sk-container-id-3 div.sk-parallel-item:only-child::after {width: 0;}#sk-container-id-3 div.sk-dashed-wrapped {border: 1px dashed gray;margin: 0 0.4em 0.5em 0.4em;box-sizing: border-box;padding-bottom: 0.4em;background-color: white;}#sk-container-id-3 div.sk-label label {font-family: monospace;font-weight: bold;display: inline-block;line-height: 1.2em;}#sk-container-id-3 div.sk-label-container {text-align: center;}#sk-container-id-3 div.sk-container {/* jupyter's `normalize.less` sets `[hidden] { display: none; }` but bootstrap.min.css set `[hidden] { display: none !important; }` so we also need the `!important` here to be able to override the default hidden behavior on the sphinx rendered scikit-learn.org. See: https://github.com/scikit-learn/scikit-learn/issues/21755 */display: inline-block !important;position: relative;}#sk-container-id-3 div.sk-text-repr-fallback {display: none;}</style><div id=\"sk-container-id-3\" class=\"sk-top-container\"><div class=\"sk-text-repr-fallback\"><pre>VotingRegressor(estimators=[(&#x27;lr&#x27;, LinearRegression()),\n",
       "                            (&#x27;dt&#x27;, DecisionTreeRegressor()),\n",
       "                            (&#x27;knn&#x27;, KNeighborsRegressor())])</pre><b>In a Jupyter environment, please rerun this cell to show the HTML representation or trust the notebook. <br />On GitHub, the HTML representation is unable to render, please try loading this page with nbviewer.org.</b></div><div class=\"sk-container\" hidden><div class=\"sk-item sk-dashed-wrapped\"><div class=\"sk-label-container\"><div class=\"sk-label sk-toggleable\"><input class=\"sk-toggleable__control sk-hidden--visually\" id=\"sk-estimator-id-9\" type=\"checkbox\" ><label for=\"sk-estimator-id-9\" class=\"sk-toggleable__label sk-toggleable__label-arrow\">VotingRegressor</label><div class=\"sk-toggleable__content\"><pre>VotingRegressor(estimators=[(&#x27;lr&#x27;, LinearRegression()),\n",
       "                            (&#x27;dt&#x27;, DecisionTreeRegressor()),\n",
       "                            (&#x27;knn&#x27;, KNeighborsRegressor())])</pre></div></div></div><div class=\"sk-parallel\"><div class=\"sk-parallel-item\"><div class=\"sk-item\"><div class=\"sk-label-container\"><div class=\"sk-label sk-toggleable\"><label>lr</label></div></div><div class=\"sk-serial\"><div class=\"sk-item\"><div class=\"sk-estimator sk-toggleable\"><input class=\"sk-toggleable__control sk-hidden--visually\" id=\"sk-estimator-id-10\" type=\"checkbox\" ><label for=\"sk-estimator-id-10\" class=\"sk-toggleable__label sk-toggleable__label-arrow\">LinearRegression</label><div class=\"sk-toggleable__content\"><pre>LinearRegression()</pre></div></div></div></div></div></div><div class=\"sk-parallel-item\"><div class=\"sk-item\"><div class=\"sk-label-container\"><div class=\"sk-label sk-toggleable\"><label>dt</label></div></div><div class=\"sk-serial\"><div class=\"sk-item\"><div class=\"sk-estimator sk-toggleable\"><input class=\"sk-toggleable__control sk-hidden--visually\" id=\"sk-estimator-id-11\" type=\"checkbox\" ><label for=\"sk-estimator-id-11\" class=\"sk-toggleable__label sk-toggleable__label-arrow\">DecisionTreeRegressor</label><div class=\"sk-toggleable__content\"><pre>DecisionTreeRegressor()</pre></div></div></div></div></div></div><div class=\"sk-parallel-item\"><div class=\"sk-item\"><div class=\"sk-label-container\"><div class=\"sk-label sk-toggleable\"><label>knn</label></div></div><div class=\"sk-serial\"><div class=\"sk-item\"><div class=\"sk-estimator sk-toggleable\"><input class=\"sk-toggleable__control sk-hidden--visually\" id=\"sk-estimator-id-12\" type=\"checkbox\" ><label for=\"sk-estimator-id-12\" class=\"sk-toggleable__label sk-toggleable__label-arrow\">KNeighborsRegressor</label><div class=\"sk-toggleable__content\"><pre>KNeighborsRegressor()</pre></div></div></div></div></div></div></div></div></div></div>"
      ],
      "text/plain": [
       "VotingRegressor(estimators=[('lr', LinearRegression()),\n",
       "                            ('dt', DecisionTreeRegressor()),\n",
       "                            ('knn', KNeighborsRegressor())])"
      ]
     },
     "execution_count": 21,
     "metadata": {},
     "output_type": "execute_result"
    }
   ],
   "source": [
    "# Train\n",
    "voting_reg.fit(X_train, y_train)"
   ]
  },
  {
   "cell_type": "code",
   "execution_count": 22,
   "id": "c1e4768c",
   "metadata": {
    "execution": {
     "iopub.execute_input": "2025-07-11T19:35:56.771287Z",
     "iopub.status.busy": "2025-07-11T19:35:56.770667Z",
     "iopub.status.idle": "2025-07-11T19:35:56.776820Z",
     "shell.execute_reply": "2025-07-11T19:35:56.775797Z"
    },
    "papermill": {
     "duration": 0.015851,
     "end_time": "2025-07-11T19:35:56.778341",
     "exception": false,
     "start_time": "2025-07-11T19:35:56.762490",
     "status": "completed"
    },
    "tags": []
   },
   "outputs": [
    {
     "name": "stdout",
     "output_type": "stream",
     "text": [
      "[-57.58904441  62.3343653   34.30581507 -16.58065732  -9.64443201\n",
      " -12.34787351 -19.69274714 -73.80329656  34.43635765  38.94342974\n",
      "  42.35421663  14.84865839 -50.93728466 -21.81228773 -46.10862601\n",
      " -19.92906015  40.35727303  10.1166779   31.49822515  15.06004569]\n"
     ]
    }
   ],
   "source": [
    "# Predict\n",
    "y_pred = voting_reg.predict(X_test)\n",
    "\n",
    "print(y_pred)"
   ]
  },
  {
   "cell_type": "code",
   "execution_count": 23,
   "id": "201298e1",
   "metadata": {
    "execution": {
     "iopub.execute_input": "2025-07-11T19:35:56.794608Z",
     "iopub.status.busy": "2025-07-11T19:35:56.794296Z",
     "iopub.status.idle": "2025-07-11T19:35:57.125646Z",
     "shell.execute_reply": "2025-07-11T19:35:57.124737Z"
    },
    "papermill": {
     "duration": 0.341374,
     "end_time": "2025-07-11T19:35:57.127351",
     "exception": false,
     "start_time": "2025-07-11T19:35:56.785977",
     "status": "completed"
    },
    "tags": []
   },
   "outputs": [
    {
     "data": {
      "image/png": "[encoded data removed]",
      "text/plain": [
       "<Figure size 640x480 with 1 Axes>"
      ]
     },
     "metadata": {},
     "output_type": "display_data"
    }
   ],
   "source": [
    "# Visualization\n",
    "import matplotlib.pyplot as plt\n",
    "import numpy as np\n",
    "\n",
    "plt.scatter(X_test, y_test, color='black', label='Actual Data')\n",
    "plt.scatter(X_test, y_pred, color='red', label='Voting Regressor Predictions')\n",
    "# Line for prediction trend\n",
    "sorted_indices = np.argsort(X_test[:, 0])\n",
    "plt.plot(X_test[sorted_indices], y_pred[sorted_indices], color='blue', label='Prediction Line')\n",
    "\n",
    "plt.title('Voting Regressor Predictions vs Actual Data')\n",
    "plt.xlabel('Feature')\n",
    "plt.ylabel('Target')\n",
    "plt.legend()\n",
    "plt.show()"
   ]
  },
  {
   "cell_type": "code",
   "execution_count": null,
   "id": "c2fa2b57",
   "metadata": {
    "papermill": {
     "duration": 0.00788,
     "end_time": "2025-07-11T19:35:57.144127",
     "exception": false,
     "start_time": "2025-07-11T19:35:57.136247",
     "status": "completed"
    },
    "tags": []
   },
   "outputs": [],
   "source": []
  }
 ],
 "metadata": {
  "kaggle": {
   "accelerator": "none",
   "dataSources": [],
   "dockerImageVersionId": 31089,
   "isGpuEnabled": false,
   "isInternetEnabled": false,
   "language": "python",
   "sourceType": "notebook"
  },
  "kernelspec": {
   "display_name": "Python 3",
   "language": "python",
   "name": "python3"
  },
  "language_info": {
   "codemirror_mode": {
    "name": "ipython",
    "version": 3
   },
   "file_extension": ".py",
   "mimetype": "text/x-python",
   "name": "python",
   "nbconvert_exporter": "python",
   "pygments_lexer": "ipython3",
   "version": "3.11.13"
  },
  "papermill": {
   "default_parameters": {},
   "duration": 9.260206,
   "end_time": "2025-07-11T19:35:57.772143",
   "environment_variables": {},
   "exception": null,
   "input_path": "__notebook__.ipynb",
   "output_path": "__notebook__.ipynb",
   "parameters": {},
   "start_time": "2025-07-11T19:35:48.511937",
   "version": "2.6.0"
  }
 },
 "nbformat": 4,
 "nbformat_minor": 5
}
