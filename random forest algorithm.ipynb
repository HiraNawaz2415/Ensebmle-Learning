{
 "cells": [
  {
   "cell_type": "markdown",
   "id": "b2310bd8",
   "metadata": {
    "_cell_guid": "b1076dfc-b9ad-4769-8c92-a6c4dae69d19",
    "_uuid": "8f2839f25d086af736a60e9eeb907d3b93b6e0e5",
    "papermill": {
     "duration": 0.006542,
     "end_time": "2025-07-12T19:26:30.091921",
     "exception": false,
     "start_time": "2025-07-12T19:26:30.085379",
     "status": "completed"
    },
    "tags": []
   },
   "source": [
    "# Random Forest Algorithm\n",
    " It is Special case of Bagging where base model is Decision Tree\n",
    " It add more Randomness as compare to  bagging.\n",
    " Do not need to tune the parameter more it will give result better.\n",
    "**Note:** It can be used for any machine learning problem it will give  best result always for any problems.\n"
   ]
  },
  {
   "cell_type": "markdown",
   "id": "98b5968c",
   "metadata": {
    "papermill": {
     "duration": 0.004116,
     "end_time": "2025-07-12T19:26:30.101443",
     "exception": false,
     "start_time": "2025-07-12T19:26:30.097327",
     "status": "completed"
    },
    "tags": []
   },
   "source": [
    "**Note:** It can be used for any machine learning problem it will give best result always for any problems."
   ]
  },
  {
   "cell_type": "markdown",
   "id": "7c7328de",
   "metadata": {
    "papermill": {
     "duration": 0.003952,
     "end_time": "2025-07-12T19:26:30.109713",
     "exception": false,
     "start_time": "2025-07-12T19:26:30.105761",
     "status": "completed"
    },
    "tags": []
   },
   "source": [
    "**Note:** When splitting a node, it picks a random subset of features instead of considering all features.\n",
    "A Random Forest = Bagging + Random feature selection at split level\n",
    "In bagging when we do sampling by using columns then we do tree level but in random forest we do node level\n",
    "\n",
    "\n",
    "#### Example:\n",
    "Suppose  have 10 features (columns).\n",
    "\n",
    "A plain Decision Tree looks at all 10 at every split to find the best.\n",
    "Random Forest does something different:\n",
    "\n",
    "At each split, instead of looking at all features,\n",
    "it picks a random smaller subset — maybe 3 out of the 10 —\n",
    "and finds the best feature just within that smaller random set."
   ]
  },
  {
   "cell_type": "markdown",
   "id": "0f2e161f",
   "metadata": {
    "papermill": {
     "duration": 0.003953,
     "end_time": "2025-07-12T19:26:30.118016",
     "exception": false,
     "start_time": "2025-07-12T19:26:30.114063",
     "status": "completed"
    },
    "tags": []
   },
   "source": [
    "### Why do we add the random feature split?\n",
    "If  don’t add this step, and all trees are deep, they can become too similar because they’ll pick the same “best” features every time.\n",
    "\n",
    "By forcing each split to pick from a random subset of features, trees become more diverse."
   ]
  },
  {
   "cell_type": "markdown",
   "id": "981b3e51",
   "metadata": {
    "papermill": {
     "duration": 0.004047,
     "end_time": "2025-07-12T19:26:30.126325",
     "exception": false,
     "start_time": "2025-07-12T19:26:30.122278",
     "status": "completed"
    },
    "tags": []
   },
   "source": [
    "### How is Random Forest different from plain Bagging?\n",
    "\n",
    "|  Feature         | **Bagging**                                                      | **Random Forest**                                   |\n",
    "| ------------------ | ---------------------------------------------------------------- | --------------------------------------------------- |\n",
    "| Base models        | Any model (commonly decision trees)                              | Decision trees only                                 |\n",
    "| Bootstrap samples? | Yes (with replacement)                                         |  Yes                                               |\n",
    "| Random features?   | Can do at the *model level* (`max_features`), not at split level |  Picks random subset of features at **each split** |\n",
    "| Extra randomness   | Just sampling data (and optional features per model)             | Data + features at split level                      |\n",
    "| OOB score          |                                                                |                                                   |\n",
    "| Typical use        | General method                                                   | Special powerful method for trees                   |\n"
   ]
  },
  {
   "cell_type": "code",
   "execution_count": 1,
   "id": "5a70b0fa",
   "metadata": {
    "execution": {
     "iopub.execute_input": "2025-07-12T19:26:30.136820Z",
     "iopub.status.busy": "2025-07-12T19:26:30.136505Z",
     "iopub.status.idle": "2025-07-12T19:26:32.686079Z",
     "shell.execute_reply": "2025-07-12T19:26:32.685066Z"
    },
    "papermill": {
     "duration": 2.557445,
     "end_time": "2025-07-12T19:26:32.688045",
     "exception": false,
     "start_time": "2025-07-12T19:26:30.130600",
     "status": "completed"
    },
    "tags": []
   },
   "outputs": [],
   "source": [
    "import numpy as np\n",
    "import matplotlib.pyplot as plt\n",
    "from sklearn.datasets import make_moons\n",
    "from sklearn.model_selection import train_test_split\n",
    "from sklearn.ensemble import RandomForestClassifier"
   ]
  },
  {
   "cell_type": "code",
   "execution_count": 2,
   "id": "f105e11a",
   "metadata": {
    "execution": {
     "iopub.execute_input": "2025-07-12T19:26:32.698549Z",
     "iopub.status.busy": "2025-07-12T19:26:32.698007Z",
     "iopub.status.idle": "2025-07-12T19:26:32.721074Z",
     "shell.execute_reply": "2025-07-12T19:26:32.719897Z"
    },
    "papermill": {
     "duration": 0.030136,
     "end_time": "2025-07-12T19:26:32.722774",
     "exception": false,
     "start_time": "2025-07-12T19:26:32.692638",
     "status": "completed"
    },
    "tags": []
   },
   "outputs": [],
   "source": [
    "X, y = make_moons(n_samples=300, noise=0.3, random_state=42)\n",
    "X_train, X_test, y_train, y_test = train_test_split(\n",
    "    X, y, test_size=0.3, random_state=42\n",
    ")"
   ]
  },
  {
   "cell_type": "code",
   "execution_count": 3,
   "id": "94379730",
   "metadata": {
    "execution": {
     "iopub.execute_input": "2025-07-12T19:26:32.734078Z",
     "iopub.status.busy": "2025-07-12T19:26:32.733137Z",
     "iopub.status.idle": "2025-07-12T19:26:32.918191Z",
     "shell.execute_reply": "2025-07-12T19:26:32.917297Z"
    },
    "papermill": {
     "duration": 0.19269,
     "end_time": "2025-07-12T19:26:32.919696",
     "exception": false,
     "start_time": "2025-07-12T19:26:32.727006",
     "status": "completed"
    },
    "tags": []
   },
   "outputs": [
    {
     "data": {
      "text/html": [
       "<style>#sk-container-id-1 {color: black;background-color: white;}#sk-container-id-1 pre{padding: 0;}#sk-container-id-1 div.sk-toggleable {background-color: white;}#sk-container-id-1 label.sk-toggleable__label {cursor: pointer;display: block;width: 100%;margin-bottom: 0;padding: 0.3em;box-sizing: border-box;text-align: center;}#sk-container-id-1 label.sk-toggleable__label-arrow:before {content: \"▸\";float: left;margin-right: 0.25em;color: #696969;}#sk-container-id-1 label.sk-toggleable__label-arrow:hover:before {color: black;}#sk-container-id-1 div.sk-estimator:hover label.sk-toggleable__label-arrow:before {color: black;}#sk-container-id-1 div.sk-toggleable__content {max-height: 0;max-width: 0;overflow: hidden;text-align: left;background-color: #f0f8ff;}#sk-container-id-1 div.sk-toggleable__content pre {margin: 0.2em;color: black;border-radius: 0.25em;background-color: #f0f8ff;}#sk-container-id-1 input.sk-toggleable__control:checked~div.sk-toggleable__content {max-height: 200px;max-width: 100%;overflow: auto;}#sk-container-id-1 input.sk-toggleable__control:checked~label.sk-toggleable__label-arrow:before {content: \"▾\";}#sk-container-id-1 div.sk-estimator input.sk-toggleable__control:checked~label.sk-toggleable__label {background-color: #d4ebff;}#sk-container-id-1 div.sk-label input.sk-toggleable__control:checked~label.sk-toggleable__label {background-color: #d4ebff;}#sk-container-id-1 input.sk-hidden--visually {border: 0;clip: rect(1px 1px 1px 1px);clip: rect(1px, 1px, 1px, 1px);height: 1px;margin: -1px;overflow: hidden;padding: 0;position: absolute;width: 1px;}#sk-container-id-1 div.sk-estimator {font-family: monospace;background-color: #f0f8ff;border: 1px dotted black;border-radius: 0.25em;box-sizing: border-box;margin-bottom: 0.5em;}#sk-container-id-1 div.sk-estimator:hover {background-color: #d4ebff;}#sk-container-id-1 div.sk-parallel-item::after {content: \"\";width: 100%;border-bottom: 1px solid gray;flex-grow: 1;}#sk-container-id-1 div.sk-label:hover label.sk-toggleable__label {background-color: #d4ebff;}#sk-container-id-1 div.sk-serial::before {content: \"\";position: absolute;border-left: 1px solid gray;box-sizing: border-box;top: 0;bottom: 0;left: 50%;z-index: 0;}#sk-container-id-1 div.sk-serial {display: flex;flex-direction: column;align-items: center;background-color: white;padding-right: 0.2em;padding-left: 0.2em;position: relative;}#sk-container-id-1 div.sk-item {position: relative;z-index: 1;}#sk-container-id-1 div.sk-parallel {display: flex;align-items: stretch;justify-content: center;background-color: white;position: relative;}#sk-container-id-1 div.sk-item::before, #sk-container-id-1 div.sk-parallel-item::before {content: \"\";position: absolute;border-left: 1px solid gray;box-sizing: border-box;top: 0;bottom: 0;left: 50%;z-index: -1;}#sk-container-id-1 div.sk-parallel-item {display: flex;flex-direction: column;z-index: 1;position: relative;background-color: white;}#sk-container-id-1 div.sk-parallel-item:first-child::after {align-self: flex-end;width: 50%;}#sk-container-id-1 div.sk-parallel-item:last-child::after {align-self: flex-start;width: 50%;}#sk-container-id-1 div.sk-parallel-item:only-child::after {width: 0;}#sk-container-id-1 div.sk-dashed-wrapped {border: 1px dashed gray;margin: 0 0.4em 0.5em 0.4em;box-sizing: border-box;padding-bottom: 0.4em;background-color: white;}#sk-container-id-1 div.sk-label label {font-family: monospace;font-weight: bold;display: inline-block;line-height: 1.2em;}#sk-container-id-1 div.sk-label-container {text-align: center;}#sk-container-id-1 div.sk-container {/* jupyter's `normalize.less` sets `[hidden] { display: none; }` but bootstrap.min.css set `[hidden] { display: none !important; }` so we also need the `!important` here to be able to override the default hidden behavior on the sphinx rendered scikit-learn.org. See: https://github.com/scikit-learn/scikit-learn/issues/21755 */display: inline-block !important;position: relative;}#sk-container-id-1 div.sk-text-repr-fallback {display: none;}</style><div id=\"sk-container-id-1\" class=\"sk-top-container\"><div class=\"sk-text-repr-fallback\"><pre>RandomForestClassifier(oob_score=True, random_state=42)</pre><b>In a Jupyter environment, please rerun this cell to show the HTML representation or trust the notebook. <br />On GitHub, the HTML representation is unable to render, please try loading this page with nbviewer.org.</b></div><div class=\"sk-container\" hidden><div class=\"sk-item\"><div class=\"sk-estimator sk-toggleable\"><input class=\"sk-toggleable__control sk-hidden--visually\" id=\"sk-estimator-id-1\" type=\"checkbox\" checked><label for=\"sk-estimator-id-1\" class=\"sk-toggleable__label sk-toggleable__label-arrow\">RandomForestClassifier</label><div class=\"sk-toggleable__content\"><pre>RandomForestClassifier(oob_score=True, random_state=42)</pre></div></div></div></div></div>"
      ],
      "text/plain": [
       "RandomForestClassifier(oob_score=True, random_state=42)"
      ]
     },
     "execution_count": 3,
     "metadata": {},
     "output_type": "execute_result"
    }
   ],
   "source": [
    "rf = RandomForestClassifier(\n",
    "    n_estimators=100,     # Number of trees\n",
    "    max_features='sqrt',  # Random subset at each split\n",
    "    bootstrap=True,\n",
    "    oob_score=True,\n",
    "    random_state=42\n",
    ")\n",
    "rf.fit(X_train, y_train)"
   ]
  },
  {
   "cell_type": "code",
   "execution_count": 4,
   "id": "21f86a4b",
   "metadata": {
    "execution": {
     "iopub.execute_input": "2025-07-12T19:26:32.930247Z",
     "iopub.status.busy": "2025-07-12T19:26:32.929803Z",
     "iopub.status.idle": "2025-07-12T19:26:32.946559Z",
     "shell.execute_reply": "2025-07-12T19:26:32.945546Z"
    },
    "papermill": {
     "duration": 0.024164,
     "end_time": "2025-07-12T19:26:32.948584",
     "exception": false,
     "start_time": "2025-07-12T19:26:32.924420",
     "status": "completed"
    },
    "tags": []
   },
   "outputs": [
    {
     "name": "stdout",
     "output_type": "stream",
     "text": [
      "Test Accuracy: 0.8777777777777778\n",
      "OOB Score: 0.8809523809523809\n"
     ]
    }
   ],
   "source": [
    "print(\"Test Accuracy:\", rf.score(X_test, y_test))\n",
    "print(\"OOB Score:\", rf.oob_score_)"
   ]
  },
  {
   "cell_type": "code",
   "execution_count": 5,
   "id": "3a94eb6f",
   "metadata": {
    "execution": {
     "iopub.execute_input": "2025-07-12T19:26:32.960128Z",
     "iopub.status.busy": "2025-07-12T19:26:32.959757Z",
     "iopub.status.idle": "2025-07-12T19:26:33.526714Z",
     "shell.execute_reply": "2025-07-12T19:26:33.525538Z"
    },
    "papermill": {
     "duration": 0.574894,
     "end_time": "2025-07-12T19:26:33.528468",
     "exception": false,
     "start_time": "2025-07-12T19:26:32.953574",
     "status": "completed"
    },
    "tags": []
   },
   "outputs": [
    {
     "data": {
      "image/png": "[encoded data removed]",
      "text/plain": [
       "<Figure size 800x500 with 1 Axes>"
      ]
     },
     "metadata": {},
     "output_type": "display_data"
    }
   ],
   "source": [
    "def plot_decision_boundary(clf, X, y, ax, title):\n",
    "    x_min, x_max = X[:, 0].min() - .5, X[:, 0].max() + .5\n",
    "    y_min, y_max = X[:, 1].min() - .5, X[:, 1].max() + .5\n",
    "    xx, yy = np.meshgrid(\n",
    "        np.linspace(x_min, x_max, 200),\n",
    "        np.linspace(y_min, y_max, 200)\n",
    "    )\n",
    "    Z = clf.predict(np.c_[xx.ravel(), yy.ravel()])\n",
    "    Z = Z.reshape(xx.shape)\n",
    "    ax.contourf(xx, yy, Z, alpha=0.4)\n",
    "    ax.scatter(X[:, 0], X[:, 1], c=y, edgecolors='k')\n",
    "    ax.set_title(title)\n",
    "\n",
    "fig, ax = plt.subplots(figsize=(8, 5))\n",
    "plot_decision_boundary(rf, X_test, y_test, ax, \"Random Forest Decision Boundary\")\n",
    "plt.show()"
   ]
  },
  {
   "cell_type": "markdown",
   "id": "e132b0f0",
   "metadata": {
    "papermill": {
     "duration": 0.005232,
     "end_time": "2025-07-12T19:26:33.539776",
     "exception": false,
     "start_time": "2025-07-12T19:26:33.534544",
     "status": "completed"
    },
    "tags": []
   },
   "source": [
    "#### What is feature_importances_?\n",
    "feature_importances_ tells you:\n",
    " **How important each feature (column) was for making the predictions.**\n",
    "\n",
    "It’s a score for each feature — higher means the feature helped a lot in splitting the data well.\n",
    "#### How does Random Forest calculate it?\n",
    "Every time a feature is used to split a node, the algorithm measures how much that split helped make the groups purer (more cleanly separated).\n",
    "\n",
    "This “help” is summed across all trees and all splits.\n",
    "\n",
    "Finally, the importances are normalized so they add up to 1.0.\n",
    "\n",
    "#### Why is this useful?\n",
    "Feature importances help:\n",
    "\n",
    "See which features matter most in prediction.\n",
    "\n",
    "Drop unimportant features to simplify the model.\n",
    "\n",
    "Understand the model’s behavior."
   ]
  },
  {
   "cell_type": "code",
   "execution_count": 6,
   "id": "3bc59a83",
   "metadata": {
    "execution": {
     "iopub.execute_input": "2025-07-12T19:26:33.553077Z",
     "iopub.status.busy": "2025-07-12T19:26:33.552746Z",
     "iopub.status.idle": "2025-07-12T19:26:33.557810Z",
     "shell.execute_reply": "2025-07-12T19:26:33.556779Z"
    },
    "papermill": {
     "duration": 0.014163,
     "end_time": "2025-07-12T19:26:33.559526",
     "exception": false,
     "start_time": "2025-07-12T19:26:33.545363",
     "status": "completed"
    },
    "tags": []
   },
   "outputs": [],
   "source": [
    "from sklearn.datasets import load_iris\n",
    "from sklearn.ensemble import RandomForestClassifier"
   ]
  },
  {
   "cell_type": "code",
   "execution_count": 7,
   "id": "1ff77575",
   "metadata": {
    "execution": {
     "iopub.execute_input": "2025-07-12T19:26:33.572279Z",
     "iopub.status.busy": "2025-07-12T19:26:33.571881Z",
     "iopub.status.idle": "2025-07-12T19:26:33.712995Z",
     "shell.execute_reply": "2025-07-12T19:26:33.711928Z"
    },
    "papermill": {
     "duration": 0.149422,
     "end_time": "2025-07-12T19:26:33.714642",
     "exception": false,
     "start_time": "2025-07-12T19:26:33.565220",
     "status": "completed"
    },
    "tags": []
   },
   "outputs": [
    {
     "data": {
      "text/html": [
       "<style>#sk-container-id-2 {color: black;background-color: white;}#sk-container-id-2 pre{padding: 0;}#sk-container-id-2 div.sk-toggleable {background-color: white;}#sk-container-id-2 label.sk-toggleable__label {cursor: pointer;display: block;width: 100%;margin-bottom: 0;padding: 0.3em;box-sizing: border-box;text-align: center;}#sk-container-id-2 label.sk-toggleable__label-arrow:before {content: \"▸\";float: left;margin-right: 0.25em;color: #696969;}#sk-container-id-2 label.sk-toggleable__label-arrow:hover:before {color: black;}#sk-container-id-2 div.sk-estimator:hover label.sk-toggleable__label-arrow:before {color: black;}#sk-container-id-2 div.sk-toggleable__content {max-height: 0;max-width: 0;overflow: hidden;text-align: left;background-color: #f0f8ff;}#sk-container-id-2 div.sk-toggleable__content pre {margin: 0.2em;color: black;border-radius: 0.25em;background-color: #f0f8ff;}#sk-container-id-2 input.sk-toggleable__control:checked~div.sk-toggleable__content {max-height: 200px;max-width: 100%;overflow: auto;}#sk-container-id-2 input.sk-toggleable__control:checked~label.sk-toggleable__label-arrow:before {content: \"▾\";}#sk-container-id-2 div.sk-estimator input.sk-toggleable__control:checked~label.sk-toggleable__label {background-color: #d4ebff;}#sk-container-id-2 div.sk-label input.sk-toggleable__control:checked~label.sk-toggleable__label {background-color: #d4ebff;}#sk-container-id-2 input.sk-hidden--visually {border: 0;clip: rect(1px 1px 1px 1px);clip: rect(1px, 1px, 1px, 1px);height: 1px;margin: -1px;overflow: hidden;padding: 0;position: absolute;width: 1px;}#sk-container-id-2 div.sk-estimator {font-family: monospace;background-color: #f0f8ff;border: 1px dotted black;border-radius: 0.25em;box-sizing: border-box;margin-bottom: 0.5em;}#sk-container-id-2 div.sk-estimator:hover {background-color: #d4ebff;}#sk-container-id-2 div.sk-parallel-item::after {content: \"\";width: 100%;border-bottom: 1px solid gray;flex-grow: 1;}#sk-container-id-2 div.sk-label:hover label.sk-toggleable__label {background-color: #d4ebff;}#sk-container-id-2 div.sk-serial::before {content: \"\";position: absolute;border-left: 1px solid gray;box-sizing: border-box;top: 0;bottom: 0;left: 50%;z-index: 0;}#sk-container-id-2 div.sk-serial {display: flex;flex-direction: column;align-items: center;background-color: white;padding-right: 0.2em;padding-left: 0.2em;position: relative;}#sk-container-id-2 div.sk-item {position: relative;z-index: 1;}#sk-container-id-2 div.sk-parallel {display: flex;align-items: stretch;justify-content: center;background-color: white;position: relative;}#sk-container-id-2 div.sk-item::before, #sk-container-id-2 div.sk-parallel-item::before {content: \"\";position: absolute;border-left: 1px solid gray;box-sizing: border-box;top: 0;bottom: 0;left: 50%;z-index: -1;}#sk-container-id-2 div.sk-parallel-item {display: flex;flex-direction: column;z-index: 1;position: relative;background-color: white;}#sk-container-id-2 div.sk-parallel-item:first-child::after {align-self: flex-end;width: 50%;}#sk-container-id-2 div.sk-parallel-item:last-child::after {align-self: flex-start;width: 50%;}#sk-container-id-2 div.sk-parallel-item:only-child::after {width: 0;}#sk-container-id-2 div.sk-dashed-wrapped {border: 1px dashed gray;margin: 0 0.4em 0.5em 0.4em;box-sizing: border-box;padding-bottom: 0.4em;background-color: white;}#sk-container-id-2 div.sk-label label {font-family: monospace;font-weight: bold;display: inline-block;line-height: 1.2em;}#sk-container-id-2 div.sk-label-container {text-align: center;}#sk-container-id-2 div.sk-container {/* jupyter's `normalize.less` sets `[hidden] { display: none; }` but bootstrap.min.css set `[hidden] { display: none !important; }` so we also need the `!important` here to be able to override the default hidden behavior on the sphinx rendered scikit-learn.org. See: https://github.com/scikit-learn/scikit-learn/issues/21755 */display: inline-block !important;position: relative;}#sk-container-id-2 div.sk-text-repr-fallback {display: none;}</style><div id=\"sk-container-id-2\" class=\"sk-top-container\"><div class=\"sk-text-repr-fallback\"><pre>RandomForestClassifier(random_state=42)</pre><b>In a Jupyter environment, please rerun this cell to show the HTML representation or trust the notebook. <br />On GitHub, the HTML representation is unable to render, please try loading this page with nbviewer.org.</b></div><div class=\"sk-container\" hidden><div class=\"sk-item\"><div class=\"sk-estimator sk-toggleable\"><input class=\"sk-toggleable__control sk-hidden--visually\" id=\"sk-estimator-id-2\" type=\"checkbox\" checked><label for=\"sk-estimator-id-2\" class=\"sk-toggleable__label sk-toggleable__label-arrow\">RandomForestClassifier</label><div class=\"sk-toggleable__content\"><pre>RandomForestClassifier(random_state=42)</pre></div></div></div></div></div>"
      ],
      "text/plain": [
       "RandomForestClassifier(random_state=42)"
      ]
     },
     "execution_count": 7,
     "metadata": {},
     "output_type": "execute_result"
    }
   ],
   "source": [
    "# Load data\n",
    "X, y = load_iris(return_X_y=True)\n",
    "rf = RandomForestClassifier(n_estimators=100, random_state=42)\n",
    "rf.fit(X, y)"
   ]
  },
  {
   "cell_type": "code",
   "execution_count": 8,
   "id": "d5c1a87f",
   "metadata": {
    "execution": {
     "iopub.execute_input": "2025-07-12T19:26:33.727658Z",
     "iopub.status.busy": "2025-07-12T19:26:33.727348Z",
     "iopub.status.idle": "2025-07-12T19:26:33.739660Z",
     "shell.execute_reply": "2025-07-12T19:26:33.738566Z"
    },
    "papermill": {
     "duration": 0.020909,
     "end_time": "2025-07-12T19:26:33.741566",
     "exception": false,
     "start_time": "2025-07-12T19:26:33.720657",
     "status": "completed"
    },
    "tags": []
   },
   "outputs": [
    {
     "name": "stdout",
     "output_type": "stream",
     "text": [
      "Feature Importances: [0.10612762 0.02167809 0.43612951 0.43606478]\n"
     ]
    }
   ],
   "source": [
    "# Get feature importances\n",
    "importances = rf.feature_importances_\n",
    "print(\"Feature Importances:\", importances)"
   ]
  },
  {
   "cell_type": "code",
   "execution_count": 9,
   "id": "db033183",
   "metadata": {
    "execution": {
     "iopub.execute_input": "2025-07-12T19:26:33.755301Z",
     "iopub.status.busy": "2025-07-12T19:26:33.754865Z",
     "iopub.status.idle": "2025-07-12T19:26:33.894627Z",
     "shell.execute_reply": "2025-07-12T19:26:33.893540Z"
    },
    "papermill": {
     "duration": 0.149088,
     "end_time": "2025-07-12T19:26:33.896727",
     "exception": false,
     "start_time": "2025-07-12T19:26:33.747639",
     "status": "completed"
    },
    "tags": []
   },
   "outputs": [
    {
     "data": {
      "image/png": "[encoded data removed]",
      "text/plain": [
       "<Figure size 640x480 with 1 Axes>"
      ]
     },
     "metadata": {},
     "output_type": "display_data"
    }
   ],
   "source": [
    "import matplotlib.pyplot as plt\n",
    "\n",
    "features = load_iris().feature_names\n",
    "\n",
    "plt.barh(features, importances)\n",
    "plt.xlabel(\"Feature Importance\")\n",
    "plt.title(\"Random Forest Feature Importances\")\n",
    "plt.show()"
   ]
  },
  {
   "cell_type": "markdown",
   "id": "cdbe8e14",
   "metadata": {
    "papermill": {
     "duration": 0.005823,
     "end_time": "2025-07-12T19:26:33.909165",
     "exception": false,
     "start_time": "2025-07-12T19:26:33.903342",
     "status": "completed"
    },
    "tags": []
   },
   "source": [
    "## Random forest Regressor and hyper parameter tuning\n",
    "\n"
   ]
  },
  {
   "cell_type": "code",
   "execution_count": 10,
   "id": "b228daa3",
   "metadata": {
    "execution": {
     "iopub.execute_input": "2025-07-12T19:26:33.923360Z",
     "iopub.status.busy": "2025-07-12T19:26:33.922597Z",
     "iopub.status.idle": "2025-07-12T19:26:33.927190Z",
     "shell.execute_reply": "2025-07-12T19:26:33.926284Z"
    },
    "papermill": {
     "duration": 0.013332,
     "end_time": "2025-07-12T19:26:33.928595",
     "exception": false,
     "start_time": "2025-07-12T19:26:33.915263",
     "status": "completed"
    },
    "tags": []
   },
   "outputs": [],
   "source": [
    "from sklearn.ensemble import RandomForestRegressor\n",
    "from sklearn.model_selection import RandomizedSearchCV"
   ]
  },
  {
   "cell_type": "code",
   "execution_count": 11,
   "id": "fb8d9d1b",
   "metadata": {
    "execution": {
     "iopub.execute_input": "2025-07-12T19:26:33.942037Z",
     "iopub.status.busy": "2025-07-12T19:26:33.941680Z",
     "iopub.status.idle": "2025-07-12T19:26:33.946462Z",
     "shell.execute_reply": "2025-07-12T19:26:33.945579Z"
    },
    "papermill": {
     "duration": 0.013151,
     "end_time": "2025-07-12T19:26:33.947874",
     "exception": false,
     "start_time": "2025-07-12T19:26:33.934723",
     "status": "completed"
    },
    "tags": []
   },
   "outputs": [],
   "source": [
    "rf_reg = RandomForestRegressor(\n",
    "    oob_score=True,\n",
    "    random_state=42,\n",
    "    n_jobs=-1\n",
    ")"
   ]
  },
  {
   "cell_type": "code",
   "execution_count": 12,
   "id": "e5de757e",
   "metadata": {
    "execution": {
     "iopub.execute_input": "2025-07-12T19:26:33.961249Z",
     "iopub.status.busy": "2025-07-12T19:26:33.960842Z",
     "iopub.status.idle": "2025-07-12T19:26:33.965897Z",
     "shell.execute_reply": "2025-07-12T19:26:33.965009Z"
    },
    "papermill": {
     "duration": 0.013584,
     "end_time": "2025-07-12T19:26:33.967491",
     "exception": false,
     "start_time": "2025-07-12T19:26:33.953907",
     "status": "completed"
    },
    "tags": []
   },
   "outputs": [],
   "source": [
    "param_dist_reg = {\n",
    "    'n_estimators': [50, 100, 200, 300],\n",
    "    'max_depth': [None, 3, 5, 7, 10],\n",
    "    'max_features': ['sqrt', 'log2', 0.5, 0.8],\n",
    "    'bootstrap': [True, False],\n",
    "    'min_samples_split': [2, 5, 10],\n",
    "    'min_samples_leaf': [1, 2, 4]\n",
    "}"
   ]
  },
  {
   "cell_type": "code",
   "execution_count": 13,
   "id": "3ca797ef",
   "metadata": {
    "execution": {
     "iopub.execute_input": "2025-07-12T19:26:33.980777Z",
     "iopub.status.busy": "2025-07-12T19:26:33.980461Z",
     "iopub.status.idle": "2025-07-12T19:26:33.985615Z",
     "shell.execute_reply": "2025-07-12T19:26:33.984639Z"
    },
    "papermill": {
     "duration": 0.013556,
     "end_time": "2025-07-12T19:26:33.987171",
     "exception": false,
     "start_time": "2025-07-12T19:26:33.973615",
     "status": "completed"
    },
    "tags": []
   },
   "outputs": [],
   "source": [
    "random_search_rf_reg = RandomizedSearchCV(\n",
    "    estimator=rf_reg,\n",
    "    param_distributions=param_dist_reg,\n",
    "    n_iter=20,          # Try 20 random combinations\n",
    "    cv=5,               # 5-fold CV\n",
    "    scoring='r2',       # Use R² score for regression\n",
    "    n_jobs=-1,\n",
    "    random_state=42\n",
    ")\n"
   ]
  },
  {
   "cell_type": "code",
   "execution_count": 14,
   "id": "32d3272c",
   "metadata": {
    "execution": {
     "iopub.execute_input": "2025-07-12T19:26:34.000715Z",
     "iopub.status.busy": "2025-07-12T19:26:33.999961Z",
     "iopub.status.idle": "2025-07-12T19:26:42.942434Z",
     "shell.execute_reply": "2025-07-12T19:26:42.941412Z"
    },
    "papermill": {
     "duration": 8.950776,
     "end_time": "2025-07-12T19:26:42.943928",
     "exception": false,
     "start_time": "2025-07-12T19:26:33.993152",
     "status": "completed"
    },
    "tags": []
   },
   "outputs": [
    {
     "name": "stderr",
     "output_type": "stream",
     "text": [
      "/usr/local/lib/python3.11/dist-packages/sklearn/model_selection/_validation.py:378: FitFailedWarning: \n",
      "40 fits failed out of a total of 100.\n",
      "The score on these train-test partitions for these parameters will be set to nan.\n",
      "If these failures are not expected, you can try to debug them by setting error_score='raise'.\n",
      "\n",
      "Below are more details about the failures:\n",
      "--------------------------------------------------------------------------------\n",
      "40 fits failed with the following error:\n",
      "Traceback (most recent call last):\n",
      "  File \"/usr/local/lib/python3.11/dist-packages/sklearn/model_selection/_validation.py\", line 686, in _fit_and_score\n",
      "    estimator.fit(X_train, y_train, **fit_params)\n",
      "  File \"/usr/local/lib/python3.11/dist-packages/sklearn/ensemble/_forest.py\", line 434, in fit\n",
      "    raise ValueError(\"Out of bag estimation only available if bootstrap=True\")\n",
      "ValueError: Out of bag estimation only available if bootstrap=True\n",
      "\n",
      "  warnings.warn(some_fits_failed_message, FitFailedWarning)\n",
      "/usr/local/lib/python3.11/dist-packages/sklearn/model_selection/_search.py:952: UserWarning: One or more of the test scores are non-finite: [0.56701687 0.60773758 0.6121423  0.60773758 0.60789259        nan\n",
      "        nan        nan        nan 0.56701687 0.61466176 0.62516742\n",
      "        nan        nan 0.60714994        nan 0.61741107        nan\n",
      " 0.61123707 0.60406809]\n",
      "  warnings.warn(\n"
     ]
    },
    {
     "data": {
      "text/html": [
       "<style>#sk-container-id-3 {color: black;background-color: white;}#sk-container-id-3 pre{padding: 0;}#sk-container-id-3 div.sk-toggleable {background-color: white;}#sk-container-id-3 label.sk-toggleable__label {cursor: pointer;display: block;width: 100%;margin-bottom: 0;padding: 0.3em;box-sizing: border-box;text-align: center;}#sk-container-id-3 label.sk-toggleable__label-arrow:before {content: \"▸\";float: left;margin-right: 0.25em;color: #696969;}#sk-container-id-3 label.sk-toggleable__label-arrow:hover:before {color: black;}#sk-container-id-3 div.sk-estimator:hover label.sk-toggleable__label-arrow:before {color: black;}#sk-container-id-3 div.sk-toggleable__content {max-height: 0;max-width: 0;overflow: hidden;text-align: left;background-color: #f0f8ff;}#sk-container-id-3 div.sk-toggleable__content pre {margin: 0.2em;color: black;border-radius: 0.25em;background-color: #f0f8ff;}#sk-container-id-3 input.sk-toggleable__control:checked~div.sk-toggleable__content {max-height: 200px;max-width: 100%;overflow: auto;}#sk-container-id-3 input.sk-toggleable__control:checked~label.sk-toggleable__label-arrow:before {content: \"▾\";}#sk-container-id-3 div.sk-estimator input.sk-toggleable__control:checked~label.sk-toggleable__label {background-color: #d4ebff;}#sk-container-id-3 div.sk-label input.sk-toggleable__control:checked~label.sk-toggleable__label {background-color: #d4ebff;}#sk-container-id-3 input.sk-hidden--visually {border: 0;clip: rect(1px 1px 1px 1px);clip: rect(1px, 1px, 1px, 1px);height: 1px;margin: -1px;overflow: hidden;padding: 0;position: absolute;width: 1px;}#sk-container-id-3 div.sk-estimator {font-family: monospace;background-color: #f0f8ff;border: 1px dotted black;border-radius: 0.25em;box-sizing: border-box;margin-bottom: 0.5em;}#sk-container-id-3 div.sk-estimator:hover {background-color: #d4ebff;}#sk-container-id-3 div.sk-parallel-item::after {content: \"\";width: 100%;border-bottom: 1px solid gray;flex-grow: 1;}#sk-container-id-3 div.sk-label:hover label.sk-toggleable__label {background-color: #d4ebff;}#sk-container-id-3 div.sk-serial::before {content: \"\";position: absolute;border-left: 1px solid gray;box-sizing: border-box;top: 0;bottom: 0;left: 50%;z-index: 0;}#sk-container-id-3 div.sk-serial {display: flex;flex-direction: column;align-items: center;background-color: white;padding-right: 0.2em;padding-left: 0.2em;position: relative;}#sk-container-id-3 div.sk-item {position: relative;z-index: 1;}#sk-container-id-3 div.sk-parallel {display: flex;align-items: stretch;justify-content: center;background-color: white;position: relative;}#sk-container-id-3 div.sk-item::before, #sk-container-id-3 div.sk-parallel-item::before {content: \"\";position: absolute;border-left: 1px solid gray;box-sizing: border-box;top: 0;bottom: 0;left: 50%;z-index: -1;}#sk-container-id-3 div.sk-parallel-item {display: flex;flex-direction: column;z-index: 1;position: relative;background-color: white;}#sk-container-id-3 div.sk-parallel-item:first-child::after {align-self: flex-end;width: 50%;}#sk-container-id-3 div.sk-parallel-item:last-child::after {align-self: flex-start;width: 50%;}#sk-container-id-3 div.sk-parallel-item:only-child::after {width: 0;}#sk-container-id-3 div.sk-dashed-wrapped {border: 1px dashed gray;margin: 0 0.4em 0.5em 0.4em;box-sizing: border-box;padding-bottom: 0.4em;background-color: white;}#sk-container-id-3 div.sk-label label {font-family: monospace;font-weight: bold;display: inline-block;line-height: 1.2em;}#sk-container-id-3 div.sk-label-container {text-align: center;}#sk-container-id-3 div.sk-container {/* jupyter's `normalize.less` sets `[hidden] { display: none; }` but bootstrap.min.css set `[hidden] { display: none !important; }` so we also need the `!important` here to be able to override the default hidden behavior on the sphinx rendered scikit-learn.org. See: https://github.com/scikit-learn/scikit-learn/issues/21755 */display: inline-block !important;position: relative;}#sk-container-id-3 div.sk-text-repr-fallback {display: none;}</style><div id=\"sk-container-id-3\" class=\"sk-top-container\"><div class=\"sk-text-repr-fallback\"><pre>RandomizedSearchCV(cv=5,\n",
       "                   estimator=RandomForestRegressor(n_jobs=-1, oob_score=True,\n",
       "                                                   random_state=42),\n",
       "                   n_iter=20, n_jobs=-1,\n",
       "                   param_distributions={&#x27;bootstrap&#x27;: [True, False],\n",
       "                                        &#x27;max_depth&#x27;: [None, 3, 5, 7, 10],\n",
       "                                        &#x27;max_features&#x27;: [&#x27;sqrt&#x27;, &#x27;log2&#x27;, 0.5,\n",
       "                                                         0.8],\n",
       "                                        &#x27;min_samples_leaf&#x27;: [1, 2, 4],\n",
       "                                        &#x27;min_samples_split&#x27;: [2, 5, 10],\n",
       "                                        &#x27;n_estimators&#x27;: [50, 100, 200, 300]},\n",
       "                   random_state=42, scoring=&#x27;r2&#x27;)</pre><b>In a Jupyter environment, please rerun this cell to show the HTML representation or trust the notebook. <br />On GitHub, the HTML representation is unable to render, please try loading this page with nbviewer.org.</b></div><div class=\"sk-container\" hidden><div class=\"sk-item sk-dashed-wrapped\"><div class=\"sk-label-container\"><div class=\"sk-label sk-toggleable\"><input class=\"sk-toggleable__control sk-hidden--visually\" id=\"sk-estimator-id-3\" type=\"checkbox\" ><label for=\"sk-estimator-id-3\" class=\"sk-toggleable__label sk-toggleable__label-arrow\">RandomizedSearchCV</label><div class=\"sk-toggleable__content\"><pre>RandomizedSearchCV(cv=5,\n",
       "                   estimator=RandomForestRegressor(n_jobs=-1, oob_score=True,\n",
       "                                                   random_state=42),\n",
       "                   n_iter=20, n_jobs=-1,\n",
       "                   param_distributions={&#x27;bootstrap&#x27;: [True, False],\n",
       "                                        &#x27;max_depth&#x27;: [None, 3, 5, 7, 10],\n",
       "                                        &#x27;max_features&#x27;: [&#x27;sqrt&#x27;, &#x27;log2&#x27;, 0.5,\n",
       "                                                         0.8],\n",
       "                                        &#x27;min_samples_leaf&#x27;: [1, 2, 4],\n",
       "                                        &#x27;min_samples_split&#x27;: [2, 5, 10],\n",
       "                                        &#x27;n_estimators&#x27;: [50, 100, 200, 300]},\n",
       "                   random_state=42, scoring=&#x27;r2&#x27;)</pre></div></div></div><div class=\"sk-parallel\"><div class=\"sk-parallel-item\"><div class=\"sk-item\"><div class=\"sk-label-container\"><div class=\"sk-label sk-toggleable\"><input class=\"sk-toggleable__control sk-hidden--visually\" id=\"sk-estimator-id-4\" type=\"checkbox\" ><label for=\"sk-estimator-id-4\" class=\"sk-toggleable__label sk-toggleable__label-arrow\">estimator: RandomForestRegressor</label><div class=\"sk-toggleable__content\"><pre>RandomForestRegressor(n_jobs=-1, oob_score=True, random_state=42)</pre></div></div></div><div class=\"sk-serial\"><div class=\"sk-item\"><div class=\"sk-estimator sk-toggleable\"><input class=\"sk-toggleable__control sk-hidden--visually\" id=\"sk-estimator-id-5\" type=\"checkbox\" ><label for=\"sk-estimator-id-5\" class=\"sk-toggleable__label sk-toggleable__label-arrow\">RandomForestRegressor</label><div class=\"sk-toggleable__content\"><pre>RandomForestRegressor(n_jobs=-1, oob_score=True, random_state=42)</pre></div></div></div></div></div></div></div></div></div></div>"
      ],
      "text/plain": [
       "RandomizedSearchCV(cv=5,\n",
       "                   estimator=RandomForestRegressor(n_jobs=-1, oob_score=True,\n",
       "                                                   random_state=42),\n",
       "                   n_iter=20, n_jobs=-1,\n",
       "                   param_distributions={'bootstrap': [True, False],\n",
       "                                        'max_depth': [None, 3, 5, 7, 10],\n",
       "                                        'max_features': ['sqrt', 'log2', 0.5,\n",
       "                                                         0.8],\n",
       "                                        'min_samples_leaf': [1, 2, 4],\n",
       "                                        'min_samples_split': [2, 5, 10],\n",
       "                                        'n_estimators': [50, 100, 200, 300]},\n",
       "                   random_state=42, scoring='r2')"
      ]
     },
     "execution_count": 14,
     "metadata": {},
     "output_type": "execute_result"
    }
   ],
   "source": [
    "random_search_rf_reg.fit(X_train, y_train)\n"
   ]
  },
  {
   "cell_type": "code",
   "execution_count": 15,
   "id": "77401a4d",
   "metadata": {
    "execution": {
     "iopub.execute_input": "2025-07-12T19:26:42.958153Z",
     "iopub.status.busy": "2025-07-12T19:26:42.957765Z",
     "iopub.status.idle": "2025-07-12T19:26:42.963244Z",
     "shell.execute_reply": "2025-07-12T19:26:42.962144Z"
    },
    "papermill": {
     "duration": 0.014499,
     "end_time": "2025-07-12T19:26:42.964942",
     "exception": false,
     "start_time": "2025-07-12T19:26:42.950443",
     "status": "completed"
    },
    "tags": []
   },
   "outputs": [
    {
     "name": "stdout",
     "output_type": "stream",
     "text": [
      "Best hyperparameters for RandomForestRegressor (RandomizedSearchCV):\n",
      "{'n_estimators': 300, 'min_samples_split': 5, 'min_samples_leaf': 1, 'max_features': 0.8, 'max_depth': None, 'bootstrap': True}\n",
      "Best cross-validation R²: 0.63\n"
     ]
    }
   ],
   "source": [
    "print(\"Best hyperparameters for RandomForestRegressor (RandomizedSearchCV):\")\n",
    "print(random_search_rf_reg.best_params_)\n",
    "\n",
    "print(f\"Best cross-validation R²: {random_search_rf_reg.best_score_:.2f}\")"
   ]
  },
  {
   "cell_type": "code",
   "execution_count": 16,
   "id": "71e27242",
   "metadata": {
    "execution": {
     "iopub.execute_input": "2025-07-12T19:26:42.979798Z",
     "iopub.status.busy": "2025-07-12T19:26:42.979440Z",
     "iopub.status.idle": "2025-07-12T19:26:43.058737Z",
     "shell.execute_reply": "2025-07-12T19:26:43.057573Z"
    },
    "papermill": {
     "duration": 0.088704,
     "end_time": "2025-07-12T19:26:43.060479",
     "exception": false,
     "start_time": "2025-07-12T19:26:42.971775",
     "status": "completed"
    },
    "tags": []
   },
   "outputs": [
    {
     "name": "stdout",
     "output_type": "stream",
     "text": [
      "Test set R² with best params: 0.71\n"
     ]
    }
   ],
   "source": [
    "#  Test set R² score\n",
    "best_rf_reg_random = random_search_rf_reg.best_estimator_\n",
    "test_r2_random = best_rf_reg_random.score(X_test, y_test)\n",
    "print(f\"Test set R² with best params: {test_r2_random:.2f}\")"
   ]
  },
  {
   "cell_type": "code",
   "execution_count": 17,
   "id": "238569e3",
   "metadata": {
    "execution": {
     "iopub.execute_input": "2025-07-12T19:26:43.076339Z",
     "iopub.status.busy": "2025-07-12T19:26:43.075181Z",
     "iopub.status.idle": "2025-07-12T19:26:43.080335Z",
     "shell.execute_reply": "2025-07-12T19:26:43.079238Z"
    },
    "papermill": {
     "duration": 0.014375,
     "end_time": "2025-07-12T19:26:43.081891",
     "exception": false,
     "start_time": "2025-07-12T19:26:43.067516",
     "status": "completed"
    },
    "tags": []
   },
   "outputs": [
    {
     "name": "stdout",
     "output_type": "stream",
     "text": [
      " OOB Score: 0.64\n"
     ]
    }
   ],
   "source": [
    "if best_rf_reg_random.bootstrap:\n",
    "    print(f\" OOB Score: {best_rf_reg_random.oob_score_:.2f}\")"
   ]
  },
  {
   "cell_type": "markdown",
   "id": "101a3227",
   "metadata": {
    "papermill": {
     "duration": 0.006432,
     "end_time": "2025-07-12T19:26:43.095299",
     "exception": false,
     "start_time": "2025-07-12T19:26:43.088867",
     "status": "completed"
    },
    "tags": []
   },
   "source": []
  },
  {
   "cell_type": "markdown",
   "id": "763f38c9",
   "metadata": {
    "papermill": {
     "duration": 0.00632,
     "end_time": "2025-07-12T19:26:43.108308",
     "exception": false,
     "start_time": "2025-07-12T19:26:43.101988",
     "status": "completed"
    },
    "tags": []
   },
   "source": []
  }
 ],
 "metadata": {
  "kaggle": {
   "accelerator": "none",
   "dataSources": [],
   "dockerImageVersionId": 31089,
   "isGpuEnabled": false,
   "isInternetEnabled": true,
   "language": "python",
   "sourceType": "notebook"
  },
  "kernelspec": {
   "display_name": "Python 3",
   "language": "python",
   "name": "python3"
  },
  "language_info": {
   "codemirror_mode": {
    "name": "ipython",
    "version": 3
   },
   "file_extension": ".py",
   "mimetype": "text/x-python",
   "name": "python",
   "nbconvert_exporter": "python",
   "pygments_lexer": "ipython3",
   "version": "3.11.13"
  },
  "papermill": {
   "default_parameters": {},
   "duration": 21.258989,
   "end_time": "2025-07-12T19:26:45.735912",
   "environment_variables": {},
   "exception": null,
   "input_path": "__notebook__.ipynb",
   "output_path": "__notebook__.ipynb",
   "parameters": {},
   "start_time": "2025-07-12T19:26:24.476923",
   "version": "2.6.0"
  }
 },
 "nbformat": 4,
 "nbformat_minor": 5
}
