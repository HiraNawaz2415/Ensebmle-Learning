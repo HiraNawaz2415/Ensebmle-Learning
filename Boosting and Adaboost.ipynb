{
 "cells": [
  {
   "cell_type": "markdown",
   "id": "9d5f2713",
   "metadata": {
    "_cell_guid": "b1076dfc-b9ad-4769-8c92-a6c4dae69d19",
    "_uuid": "8f2839f25d086af736a60e9eeb907d3b93b6e0e5",
    "papermill": {
     "duration": 0.008045,
     "end_time": "2025-07-15T19:16:37.281595",
     "exception": false,
     "start_time": "2025-07-15T19:16:37.273550",
     "status": "completed"
    },
    "tags": []
   },
   "source": [
    "##  What is Boosting?\n",
    "Boosting is an ensemble learning technique — it combines many weak learners (typically simple models like decision trees) to build a strong learner.\n",
    "\n",
    "**Goal:** Improve prediction accuracy.\n",
    "\n",
    "**Key idea:** Each new model tries to fix the mistakes made by the previous ones."
   ]
  },
  {
   "cell_type": "markdown",
   "id": "22b27059",
   "metadata": {
    "papermill": {
     "duration": 0.007077,
     "end_time": "2025-07-15T19:16:37.296814",
     "exception": false,
     "start_time": "2025-07-15T19:16:37.289737",
     "status": "completed"
    },
    "tags": []
   },
   "source": [
    "## How does it work?\n",
    "These are the following steps that should be follow:\n",
    "1. **Start simple:**\n",
    "Train a weak model on the data (e.g., a small decision tree).\n",
    "\n",
    "2. **Find errors:**\n",
    "Check which data points the model predicted incorrectly.\n",
    "\n",
    "3. **Add focus:**\n",
    "Give more weight to those misclassified points so the next model focuses on them.\n",
    "\n",
    "4. **Repeat:**\n",
    "Train another weak model on the updated, re-weighted data.\n",
    "\n",
    "5. **Combine:**\n",
    "Combine all the weak models into one final strong model. The final prediction is usually a weighted vote or average of all the weak learners.\n",
    "\n"
   ]
  },
  {
   "cell_type": "markdown",
   "id": "393b8c79",
   "metadata": {
    "papermill": {
     "duration": 0.007931,
     "end_time": "2025-07-15T19:16:37.311778",
     "exception": false,
     "start_time": "2025-07-15T19:16:37.303847",
     "status": "completed"
    },
    "tags": []
   },
   "source": [
    "## Popular Boosting Algorithms\n",
    "\n",
    "**1.AdaBoost (Adaptive Boosting):**\n",
    "        Adjusts weights of misclassified points at each round.\n",
    "\n",
    "**2.Gradient Boosting:**\n",
    "        Fits each new model to the residual errors (the differences between actual and predicted values) of the previous model.\n",
    "\n",
    "**3.XGBoost:**\n",
    "          An efficient, scalable implementation of gradient boosting — very popular in machine learning competitions.\n",
    "\n",
    "**4.LightGBM, CatBoost:**\n",
    "Other modern variants of gradient boosting — fast and good for large datasets."
   ]
  },
  {
   "cell_type": "markdown",
   "id": "5718f0b3",
   "metadata": {
    "papermill": {
     "duration": 0.00744,
     "end_time": "2025-07-15T19:16:37.329053",
     "exception": false,
     "start_time": "2025-07-15T19:16:37.321613",
     "status": "completed"
    },
    "tags": []
   },
   "source": [
    "# AdaBoost Algorithm\n",
    "\n",
    "AdaBoost is one of the first and most popular boosting algorithms.\n",
    "\n",
    "Invented by Yoav Freund and Robert Schapire.\n",
    "\n",
    "It combines many weak learners (often shallow decision trees, called decision stumps) into a single strong classifier."
   ]
  },
  {
   "cell_type": "markdown",
   "id": "00566d9d",
   "metadata": {
    "papermill": {
     "duration": 0.00678,
     "end_time": "2025-07-15T19:16:37.342788",
     "exception": false,
     "start_time": "2025-07-15T19:16:37.336008",
     "status": "completed"
    },
    "tags": []
   },
   "source": [
    "## Key Concepts:\n",
    "\n",
    "**Weak learner:**\n",
    " Model that have accuracy near to 50% or close not high.\n",
    "\n",
    "**Decision Stumps:**\n",
    " Decision tree that have max depth 1.\n",
    "\n",
    " **negative 1**  & **positive 1** \n",
    "Does not have label 0 or 1 instead it have 1 and negative 1.\n"
   ]
  },
  {
   "cell_type": "markdown",
   "id": "746445c1",
   "metadata": {
    "papermill": {
     "duration": 0.00688,
     "end_time": "2025-07-15T19:16:37.356549",
     "exception": false,
     "start_time": "2025-07-15T19:16:37.349669",
     "status": "completed"
    },
    "tags": []
   },
   "source": [
    "## Intuition\n",
    "Each new weak learner adapts to focus on the hardest points.\n",
    "\n",
    "Weak learners can be just slightly better than random (error < 0.5) — AdaBoost still works!\n",
    "\n",
    "It’s powerful for binary classification."
   ]
  },
  {
   "cell_type": "markdown",
   "id": "deea4195",
   "metadata": {
    "papermill": {
     "duration": 0.006596,
     "end_time": "2025-07-15T19:16:37.372073",
     "exception": false,
     "start_time": "2025-07-15T19:16:37.365477",
     "status": "completed"
    },
    "tags": []
   },
   "source": [
    "## Steps for Adaboost algorithm:\n",
    "\n",
    "**1.Initialize weights**\n",
    "Every training example starts with equal weight.\n",
    "For N samples: each gets weight w = 1/N\n",
    "\n",
    "**2.Train weak learner**\n",
    "Train a weak learner (like a decision stump) using the weighted dataset.\n",
    "\n",
    "The learner tries to minimize the weighted classification error.\n",
    "\n",
    "**3.Compute learner’s error**\n",
    "Calculate the total error:\n",
    "            **sum of weights all rows that are miss classified.**\n",
    "\n",
    "**4.Compute learner’s weight**\n",
    "\n",
    "              α= 1/2ln( 1−error/error)\n",
    "Lower error → higher α → more say in final prediction.\n",
    "\n",
    "**5.Update sample weights**\n",
    "Increase weights for misclassified points (harder ones).\n",
    "\n",
    "Decrease weights for correctly classified points.\n",
    "\n",
    "    new wtw ←wi×exp(α)\n",
    "\n",
    "If correctly classified: exponent is negative → weight shrinks.\n",
    "\n",
    "If misclassified: exponent is positive → weight grows.\n",
    "\n",
    "Then, normalize so weights sum to 1.\n",
    "\n",
    "**6. Repeat**\n",
    "Train the next weak learner on the updated weights.\n",
    "\n",
    "Repeat steps 2–5 for M rounds.\n",
    "\n",
    "**Final prediction**\n",
    "For classification: combine learners by weighted majority vote:\n",
    "\n",
    "H(x)=sign( m=1∑M (αmhm(x)))\n"
   ]
  },
  {
   "cell_type": "markdown",
   "id": "2593bb8e",
   "metadata": {
    "papermill": {
     "duration": 0.006898,
     "end_time": "2025-07-15T19:16:37.386136",
     "exception": false,
     "start_time": "2025-07-15T19:16:37.379238",
     "status": "completed"
    },
    "tags": []
   },
   "source": [
    "## Weaknesses\n",
    "\n",
    "Sensitive to noisy data & outliers\n",
    "\n",
    "Not great for very complex base learners (like big trees — lose the point of “weak”)\n",
    "\n"
   ]
  },
  {
   "cell_type": "code",
   "execution_count": 1,
   "id": "7085bfc2",
   "metadata": {
    "execution": {
     "iopub.execute_input": "2025-07-15T19:16:37.401469Z",
     "iopub.status.busy": "2025-07-15T19:16:37.401131Z",
     "iopub.status.idle": "2025-07-15T19:16:39.872508Z",
     "shell.execute_reply": "2025-07-15T19:16:39.871581Z"
    },
    "papermill": {
     "duration": 2.481007,
     "end_time": "2025-07-15T19:16:39.874255",
     "exception": false,
     "start_time": "2025-07-15T19:16:37.393248",
     "status": "completed"
    },
    "tags": []
   },
   "outputs": [],
   "source": [
    "from sklearn.ensemble import AdaBoostClassifier\n",
    "from sklearn.tree import DecisionTreeClassifier\n",
    "from sklearn.datasets import make_classification\n",
    "from sklearn.model_selection import train_test_split\n",
    "from sklearn.metrics import accuracy_score"
   ]
  },
  {
   "cell_type": "code",
   "execution_count": 2,
   "id": "24f2bcea",
   "metadata": {
    "execution": {
     "iopub.execute_input": "2025-07-15T19:16:39.890641Z",
     "iopub.status.busy": "2025-07-15T19:16:39.890192Z",
     "iopub.status.idle": "2025-07-15T19:16:39.917310Z",
     "shell.execute_reply": "2025-07-15T19:16:39.916337Z"
    },
    "papermill": {
     "duration": 0.037697,
     "end_time": "2025-07-15T19:16:39.919123",
     "exception": false,
     "start_time": "2025-07-15T19:16:39.881426",
     "status": "completed"
    },
    "tags": []
   },
   "outputs": [],
   "source": [
    "# Create data\n",
    "X, y = make_classification(n_samples=1000, n_features=20)\n",
    "X_train, X_test, y_train, y_test = train_test_split(X, y, test_size=0.3)"
   ]
  },
  {
   "cell_type": "code",
   "execution_count": 3,
   "id": "b7991d42",
   "metadata": {
    "execution": {
     "iopub.execute_input": "2025-07-15T19:16:39.933812Z",
     "iopub.status.busy": "2025-07-15T19:16:39.933446Z",
     "iopub.status.idle": "2025-07-15T19:16:39.937779Z",
     "shell.execute_reply": "2025-07-15T19:16:39.936856Z"
    },
    "papermill": {
     "duration": 0.013424,
     "end_time": "2025-07-15T19:16:39.939323",
     "exception": false,
     "start_time": "2025-07-15T19:16:39.925899",
     "status": "completed"
    },
    "tags": []
   },
   "outputs": [],
   "source": [
    "# Weak learner: decision stump\n",
    "stump = DecisionTreeClassifier(max_depth=1)"
   ]
  },
  {
   "cell_type": "code",
   "execution_count": 4,
   "id": "aec1c28b",
   "metadata": {
    "execution": {
     "iopub.execute_input": "2025-07-15T19:16:39.955042Z",
     "iopub.status.busy": "2025-07-15T19:16:39.954659Z",
     "iopub.status.idle": "2025-07-15T19:16:39.959356Z",
     "shell.execute_reply": "2025-07-15T19:16:39.958539Z"
    },
    "papermill": {
     "duration": 0.014679,
     "end_time": "2025-07-15T19:16:39.960946",
     "exception": false,
     "start_time": "2025-07-15T19:16:39.946267",
     "status": "completed"
    },
    "tags": []
   },
   "outputs": [],
   "source": [
    "# AdaBoost\n",
    "ada = AdaBoostClassifier(base_estimator=stump, n_estimators=50, learning_rate=1.0)"
   ]
  },
  {
   "cell_type": "code",
   "execution_count": 5,
   "id": "70f11716",
   "metadata": {
    "execution": {
     "iopub.execute_input": "2025-07-15T19:16:39.976064Z",
     "iopub.status.busy": "2025-07-15T19:16:39.975748Z",
     "iopub.status.idle": "2025-07-15T19:16:40.170201Z",
     "shell.execute_reply": "2025-07-15T19:16:40.169347Z"
    },
    "papermill": {
     "duration": 0.20417,
     "end_time": "2025-07-15T19:16:40.171994",
     "exception": false,
     "start_time": "2025-07-15T19:16:39.967824",
     "status": "completed"
    },
    "tags": []
   },
   "outputs": [
    {
     "name": "stderr",
     "output_type": "stream",
     "text": [
      "/usr/local/lib/python3.11/dist-packages/sklearn/ensemble/_base.py:166: FutureWarning: `base_estimator` was renamed to `estimator` in version 1.2 and will be removed in 1.4.\n",
      "  warnings.warn(\n"
     ]
    },
    {
     "data": {
      "text/html": [
       "<style>#sk-container-id-1 {color: black;background-color: white;}#sk-container-id-1 pre{padding: 0;}#sk-container-id-1 div.sk-toggleable {background-color: white;}#sk-container-id-1 label.sk-toggleable__label {cursor: pointer;display: block;width: 100%;margin-bottom: 0;padding: 0.3em;box-sizing: border-box;text-align: center;}#sk-container-id-1 label.sk-toggleable__label-arrow:before {content: \"▸\";float: left;margin-right: 0.25em;color: #696969;}#sk-container-id-1 label.sk-toggleable__label-arrow:hover:before {color: black;}#sk-container-id-1 div.sk-estimator:hover label.sk-toggleable__label-arrow:before {color: black;}#sk-container-id-1 div.sk-toggleable__content {max-height: 0;max-width: 0;overflow: hidden;text-align: left;background-color: #f0f8ff;}#sk-container-id-1 div.sk-toggleable__content pre {margin: 0.2em;color: black;border-radius: 0.25em;background-color: #f0f8ff;}#sk-container-id-1 input.sk-toggleable__control:checked~div.sk-toggleable__content {max-height: 200px;max-width: 100%;overflow: auto;}#sk-container-id-1 input.sk-toggleable__control:checked~label.sk-toggleable__label-arrow:before {content: \"▾\";}#sk-container-id-1 div.sk-estimator input.sk-toggleable__control:checked~label.sk-toggleable__label {background-color: #d4ebff;}#sk-container-id-1 div.sk-label input.sk-toggleable__control:checked~label.sk-toggleable__label {background-color: #d4ebff;}#sk-container-id-1 input.sk-hidden--visually {border: 0;clip: rect(1px 1px 1px 1px);clip: rect(1px, 1px, 1px, 1px);height: 1px;margin: -1px;overflow: hidden;padding: 0;position: absolute;width: 1px;}#sk-container-id-1 div.sk-estimator {font-family: monospace;background-color: #f0f8ff;border: 1px dotted black;border-radius: 0.25em;box-sizing: border-box;margin-bottom: 0.5em;}#sk-container-id-1 div.sk-estimator:hover {background-color: #d4ebff;}#sk-container-id-1 div.sk-parallel-item::after {content: \"\";width: 100%;border-bottom: 1px solid gray;flex-grow: 1;}#sk-container-id-1 div.sk-label:hover label.sk-toggleable__label {background-color: #d4ebff;}#sk-container-id-1 div.sk-serial::before {content: \"\";position: absolute;border-left: 1px solid gray;box-sizing: border-box;top: 0;bottom: 0;left: 50%;z-index: 0;}#sk-container-id-1 div.sk-serial {display: flex;flex-direction: column;align-items: center;background-color: white;padding-right: 0.2em;padding-left: 0.2em;position: relative;}#sk-container-id-1 div.sk-item {position: relative;z-index: 1;}#sk-container-id-1 div.sk-parallel {display: flex;align-items: stretch;justify-content: center;background-color: white;position: relative;}#sk-container-id-1 div.sk-item::before, #sk-container-id-1 div.sk-parallel-item::before {content: \"\";position: absolute;border-left: 1px solid gray;box-sizing: border-box;top: 0;bottom: 0;left: 50%;z-index: -1;}#sk-container-id-1 div.sk-parallel-item {display: flex;flex-direction: column;z-index: 1;position: relative;background-color: white;}#sk-container-id-1 div.sk-parallel-item:first-child::after {align-self: flex-end;width: 50%;}#sk-container-id-1 div.sk-parallel-item:last-child::after {align-self: flex-start;width: 50%;}#sk-container-id-1 div.sk-parallel-item:only-child::after {width: 0;}#sk-container-id-1 div.sk-dashed-wrapped {border: 1px dashed gray;margin: 0 0.4em 0.5em 0.4em;box-sizing: border-box;padding-bottom: 0.4em;background-color: white;}#sk-container-id-1 div.sk-label label {font-family: monospace;font-weight: bold;display: inline-block;line-height: 1.2em;}#sk-container-id-1 div.sk-label-container {text-align: center;}#sk-container-id-1 div.sk-container {/* jupyter's `normalize.less` sets `[hidden] { display: none; }` but bootstrap.min.css set `[hidden] { display: none !important; }` so we also need the `!important` here to be able to override the default hidden behavior on the sphinx rendered scikit-learn.org. See: https://github.com/scikit-learn/scikit-learn/issues/21755 */display: inline-block !important;position: relative;}#sk-container-id-1 div.sk-text-repr-fallback {display: none;}</style><div id=\"sk-container-id-1\" class=\"sk-top-container\"><div class=\"sk-text-repr-fallback\"><pre>AdaBoostClassifier(base_estimator=DecisionTreeClassifier(max_depth=1))</pre><b>In a Jupyter environment, please rerun this cell to show the HTML representation or trust the notebook. <br />On GitHub, the HTML representation is unable to render, please try loading this page with nbviewer.org.</b></div><div class=\"sk-container\" hidden><div class=\"sk-item sk-dashed-wrapped\"><div class=\"sk-label-container\"><div class=\"sk-label sk-toggleable\"><input class=\"sk-toggleable__control sk-hidden--visually\" id=\"sk-estimator-id-1\" type=\"checkbox\" ><label for=\"sk-estimator-id-1\" class=\"sk-toggleable__label sk-toggleable__label-arrow\">AdaBoostClassifier</label><div class=\"sk-toggleable__content\"><pre>AdaBoostClassifier(base_estimator=DecisionTreeClassifier(max_depth=1))</pre></div></div></div><div class=\"sk-parallel\"><div class=\"sk-parallel-item\"><div class=\"sk-item\"><div class=\"sk-label-container\"><div class=\"sk-label sk-toggleable\"><input class=\"sk-toggleable__control sk-hidden--visually\" id=\"sk-estimator-id-2\" type=\"checkbox\" ><label for=\"sk-estimator-id-2\" class=\"sk-toggleable__label sk-toggleable__label-arrow\">base_estimator: DecisionTreeClassifier</label><div class=\"sk-toggleable__content\"><pre>DecisionTreeClassifier(max_depth=1)</pre></div></div></div><div class=\"sk-serial\"><div class=\"sk-item\"><div class=\"sk-estimator sk-toggleable\"><input class=\"sk-toggleable__control sk-hidden--visually\" id=\"sk-estimator-id-3\" type=\"checkbox\" ><label for=\"sk-estimator-id-3\" class=\"sk-toggleable__label sk-toggleable__label-arrow\">DecisionTreeClassifier</label><div class=\"sk-toggleable__content\"><pre>DecisionTreeClassifier(max_depth=1)</pre></div></div></div></div></div></div></div></div></div></div>"
      ],
      "text/plain": [
       "AdaBoostClassifier(base_estimator=DecisionTreeClassifier(max_depth=1))"
      ]
     },
     "execution_count": 5,
     "metadata": {},
     "output_type": "execute_result"
    }
   ],
   "source": [
    "# Train\n",
    "ada.fit(X_train, y_train)"
   ]
  },
  {
   "cell_type": "code",
   "execution_count": 6,
   "id": "a43e2888",
   "metadata": {
    "execution": {
     "iopub.execute_input": "2025-07-15T19:16:40.188750Z",
     "iopub.status.busy": "2025-07-15T19:16:40.188420Z",
     "iopub.status.idle": "2025-07-15T19:16:40.214068Z",
     "shell.execute_reply": "2025-07-15T19:16:40.212970Z"
    },
    "papermill": {
     "duration": 0.035539,
     "end_time": "2025-07-15T19:16:40.215663",
     "exception": false,
     "start_time": "2025-07-15T19:16:40.180124",
     "status": "completed"
    },
    "tags": []
   },
   "outputs": [
    {
     "name": "stdout",
     "output_type": "stream",
     "text": [
      "Accuracy: 0.8733333333333333\n"
     ]
    }
   ],
   "source": [
    "# Predict\n",
    "y_pred = ada.predict(X_test)\n",
    "print(\"Accuracy:\", accuracy_score(y_test, y_pred))"
   ]
  },
  {
   "cell_type": "code",
   "execution_count": 7,
   "id": "d97383a8",
   "metadata": {
    "execution": {
     "iopub.execute_input": "2025-07-15T19:16:40.234521Z",
     "iopub.status.busy": "2025-07-15T19:16:40.233651Z",
     "iopub.status.idle": "2025-07-15T19:16:40.238319Z",
     "shell.execute_reply": "2025-07-15T19:16:40.237426Z"
    },
    "papermill": {
     "duration": 0.01594,
     "end_time": "2025-07-15T19:16:40.240073",
     "exception": false,
     "start_time": "2025-07-15T19:16:40.224133",
     "status": "completed"
    },
    "tags": []
   },
   "outputs": [],
   "source": [
    "import numpy as np\n",
    "import matplotlib.pyplot as plt"
   ]
  },
  {
   "cell_type": "code",
   "execution_count": 8,
   "id": "bc0147e8",
   "metadata": {
    "execution": {
     "iopub.execute_input": "2025-07-15T19:16:40.256353Z",
     "iopub.status.busy": "2025-07-15T19:16:40.256067Z",
     "iopub.status.idle": "2025-07-15T19:16:40.260339Z",
     "shell.execute_reply": "2025-07-15T19:16:40.259360Z"
    },
    "papermill": {
     "duration": 0.013875,
     "end_time": "2025-07-15T19:16:40.261946",
     "exception": false,
     "start_time": "2025-07-15T19:16:40.248071",
     "status": "completed"
    },
    "tags": []
   },
   "outputs": [],
   "source": [
    "n_samples = 5\n",
    "n_rounds = 5"
   ]
  },
  {
   "cell_type": "code",
   "execution_count": 9,
   "id": "f7891289",
   "metadata": {
    "execution": {
     "iopub.execute_input": "2025-07-15T19:16:40.278089Z",
     "iopub.status.busy": "2025-07-15T19:16:40.277517Z",
     "iopub.status.idle": "2025-07-15T19:16:40.282201Z",
     "shell.execute_reply": "2025-07-15T19:16:40.281228Z"
    },
    "papermill": {
     "duration": 0.014683,
     "end_time": "2025-07-15T19:16:40.283871",
     "exception": false,
     "start_time": "2025-07-15T19:16:40.269188",
     "status": "completed"
    },
    "tags": []
   },
   "outputs": [],
   "source": [
    "# Start with equal weights\n",
    "weights = np.zeros((n_rounds + 1, n_samples))\n",
    "weights[0] = np.ones(n_samples) / n_samples"
   ]
  },
  {
   "cell_type": "code",
   "execution_count": 10,
   "id": "92349be9",
   "metadata": {
    "execution": {
     "iopub.execute_input": "2025-07-15T19:16:40.299958Z",
     "iopub.status.busy": "2025-07-15T19:16:40.299306Z",
     "iopub.status.idle": "2025-07-15T19:16:40.305738Z",
     "shell.execute_reply": "2025-07-15T19:16:40.304748Z"
    },
    "papermill": {
     "duration": 0.016271,
     "end_time": "2025-07-15T19:16:40.307526",
     "exception": false,
     "start_time": "2025-07-15T19:16:40.291255",
     "status": "completed"
    },
    "tags": []
   },
   "outputs": [],
   "source": [
    "misclassified = [1, 3]  # index 2 and 4 in zero-based indexing\n",
    "\n",
    "for round in range(1, n_rounds + 1):\n",
    "    new_weights = weights[round - 1].copy()\n",
    "    for i in range(n_samples):\n",
    "        if i in misclassified:\n",
    "            new_weights[i] *= 1.5  # increase weight for misclassified\n",
    "        else:\n",
    "            new_weights[i] *= 0.75  # decrease weight for correct\n",
    "    new_weights /= new_weights.sum()  # normalize\n",
    "    weights[round] = new_weights\n",
    "\n"
   ]
  },
  {
   "cell_type": "code",
   "execution_count": 11,
   "id": "f56312d9",
   "metadata": {
    "execution": {
     "iopub.execute_input": "2025-07-15T19:16:40.323503Z",
     "iopub.status.busy": "2025-07-15T19:16:40.322962Z",
     "iopub.status.idle": "2025-07-15T19:16:40.663002Z",
     "shell.execute_reply": "2025-07-15T19:16:40.662057Z"
    },
    "papermill": {
     "duration": 0.350188,
     "end_time": "2025-07-15T19:16:40.665078",
     "exception": false,
     "start_time": "2025-07-15T19:16:40.314890",
     "status": "completed"
    },
    "tags": []
   },
   "outputs": [
    {
     "data": {
      "image/png": "[encoded data removed]",
      "text/plain": [
       "<Figure size 1000x600 with 1 Axes>"
      ]
     },
     "metadata": {},
     "output_type": "display_data"
    }
   ],
   "source": [
    "# Plot\n",
    "fig, ax = plt.subplots(figsize=(10, 6))\n",
    "for i in range(n_samples):\n",
    "    ax.plot(range(n_rounds + 1), weights[:, i], marker='o', label=f'Sample {i+1}')\n",
    "\n",
    "ax.set_xlabel('Boosting Round')\n",
    "ax.set_ylabel('Sample Weight')\n",
    "ax.set_title('AdaBoost Weight Shifts Over Rounds')\n",
    "ax.legend()\n",
    "plt.grid(True)\n",
    "plt.show()"
   ]
  },
  {
   "cell_type": "markdown",
   "id": "5c5c9a9d",
   "metadata": {
    "papermill": {
     "duration": 0.007978,
     "end_time": "2025-07-15T19:16:40.682078",
     "exception": false,
     "start_time": "2025-07-15T19:16:40.674100",
     "status": "completed"
    },
    "tags": []
   },
   "source": [
    "## Impace of learning rate\n",
    "\n",
    "The **learning_rate** in AdaBoost controls how much each weak learner contributes to the final model.\n",
    "\n",
    "if **learning_rate = 1.0** (the default):\n",
    "\n",
    "Use the full computed weight.\n",
    "\n",
    "If **learning_rate = 0.5:**\n",
    "\n",
    "Each learner’s weight is halved.\n",
    "\n",
    "So, each round’s correction is more conservative.\n",
    "\n",
    "\n",
    "\n",
    "**learning_rate** and **n_estimators** work together.\n",
    "\n",
    "Small learning_rate → more estimators needed.\n",
    "\n",
    "Large learning_rate → fewer estimators needed.\n",
    "\n",
    "**Why adjust it?**\n",
    "\n",
    "High learning_rate (≈1.0) → each weak learner has full say → fewer learners needed → can overfit faster.\n",
    "\n",
    "Low learning_rate (<1.0) → each learner tweaks the model more gently → may need more learners → usually better generalization."
   ]
  },
  {
   "cell_type": "code",
   "execution_count": 12,
   "id": "a2579b48",
   "metadata": {
    "execution": {
     "iopub.execute_input": "2025-07-15T19:16:40.703291Z",
     "iopub.status.busy": "2025-07-15T19:16:40.702967Z",
     "iopub.status.idle": "2025-07-15T19:16:40.707650Z",
     "shell.execute_reply": "2025-07-15T19:16:40.706804Z"
    },
    "papermill": {
     "duration": 0.017493,
     "end_time": "2025-07-15T19:16:40.709222",
     "exception": false,
     "start_time": "2025-07-15T19:16:40.691729",
     "status": "completed"
    },
    "tags": []
   },
   "outputs": [],
   "source": [
    "# AdaBoost with different learning rates\n",
    "ada1 = AdaBoostClassifier(stump, n_estimators=50, learning_rate=1.0)\n",
    "ada2 = AdaBoostClassifier(stump, n_estimators=50, learning_rate=0.5)"
   ]
  },
  {
   "cell_type": "markdown",
   "id": "84ef19ef",
   "metadata": {
    "papermill": {
     "duration": 0.008505,
     "end_time": "2025-07-15T19:16:40.726050",
     "exception": false,
     "start_time": "2025-07-15T19:16:40.717545",
     "status": "completed"
    },
    "tags": []
   },
   "source": [
    "## Adaboost From Scratch"
   ]
  },
  {
   "cell_type": "code",
   "execution_count": 13,
   "id": "87dcfe94",
   "metadata": {
    "execution": {
     "iopub.execute_input": "2025-07-15T19:16:40.744654Z",
     "iopub.status.busy": "2025-07-15T19:16:40.744296Z",
     "iopub.status.idle": "2025-07-15T19:16:43.052318Z",
     "shell.execute_reply": "2025-07-15T19:16:43.051172Z"
    },
    "papermill": {
     "duration": 2.319604,
     "end_time": "2025-07-15T19:16:43.054145",
     "exception": false,
     "start_time": "2025-07-15T19:16:40.734541",
     "status": "completed"
    },
    "tags": []
   },
   "outputs": [],
   "source": [
    "import pandas as pd\n",
    "import numpy as np\n",
    "from mlxtend.plotting import plot_decision_regions"
   ]
  },
  {
   "cell_type": "code",
   "execution_count": 14,
   "id": "836ac657",
   "metadata": {
    "execution": {
     "iopub.execute_input": "2025-07-15T19:16:43.075130Z",
     "iopub.status.busy": "2025-07-15T19:16:43.074673Z",
     "iopub.status.idle": "2025-07-15T19:16:43.080200Z",
     "shell.execute_reply": "2025-07-15T19:16:43.079229Z"
    },
    "papermill": {
     "duration": 0.01824,
     "end_time": "2025-07-15T19:16:43.082117",
     "exception": false,
     "start_time": "2025-07-15T19:16:43.063877",
     "status": "completed"
    },
    "tags": []
   },
   "outputs": [],
   "source": [
    "\n",
    "df = pd.DataFrame()\n",
    "     "
   ]
  },
  {
   "cell_type": "code",
   "execution_count": 15,
   "id": "49df03a3",
   "metadata": {
    "execution": {
     "iopub.execute_input": "2025-07-15T19:16:43.099993Z",
     "iopub.status.busy": "2025-07-15T19:16:43.099627Z",
     "iopub.status.idle": "2025-07-15T19:16:43.118503Z",
     "shell.execute_reply": "2025-07-15T19:16:43.117706Z"
    },
    "papermill": {
     "duration": 0.02963,
     "end_time": "2025-07-15T19:16:43.120125",
     "exception": false,
     "start_time": "2025-07-15T19:16:43.090495",
     "status": "completed"
    },
    "tags": []
   },
   "outputs": [],
   "source": [
    "\n",
    "df['X1'] = [1,2,3,4,5,6,6,7,9,9]\n",
    "df['X2'] = [5,3,6,8,1,9,5,8,9,2]\n",
    "df['label'] = [1,1,0,1,0,1,0,1,0,0]"
   ]
  },
  {
   "cell_type": "code",
   "execution_count": 16,
   "id": "d97242e5",
   "metadata": {
    "execution": {
     "iopub.execute_input": "2025-07-15T19:16:43.209492Z",
     "iopub.status.busy": "2025-07-15T19:16:43.209146Z",
     "iopub.status.idle": "2025-07-15T19:16:43.229848Z",
     "shell.execute_reply": "2025-07-15T19:16:43.228831Z"
    },
    "papermill": {
     "duration": 0.031737,
     "end_time": "2025-07-15T19:16:43.231632",
     "exception": false,
     "start_time": "2025-07-15T19:16:43.199895",
     "status": "completed"
    },
    "tags": []
   },
   "outputs": [
    {
     "data": {
      "text/html": [
       "<div>\n",
       "<style scoped>\n",
       "    .dataframe tbody tr th:only-of-type {\n",
       "        vertical-align: middle;\n",
       "    }\n",
       "\n",
       "    .dataframe tbody tr th {\n",
       "        vertical-align: top;\n",
       "    }\n",
       "\n",
       "    .dataframe thead th {\n",
       "        text-align: right;\n",
       "    }\n",
       "</style>\n",
       "<table border=\"1\" class=\"dataframe\">\n",
       "  <thead>\n",
       "    <tr style=\"text-align: right;\">\n",
       "      <th></th>\n",
       "      <th>X1</th>\n",
       "      <th>X2</th>\n",
       "      <th>label</th>\n",
       "    </tr>\n",
       "  </thead>\n",
       "  <tbody>\n",
       "    <tr>\n",
       "      <th>0</th>\n",
       "      <td>1</td>\n",
       "      <td>5</td>\n",
       "      <td>1</td>\n",
       "    </tr>\n",
       "    <tr>\n",
       "      <th>1</th>\n",
       "      <td>2</td>\n",
       "      <td>3</td>\n",
       "      <td>1</td>\n",
       "    </tr>\n",
       "    <tr>\n",
       "      <th>2</th>\n",
       "      <td>3</td>\n",
       "      <td>6</td>\n",
       "      <td>0</td>\n",
       "    </tr>\n",
       "    <tr>\n",
       "      <th>3</th>\n",
       "      <td>4</td>\n",
       "      <td>8</td>\n",
       "      <td>1</td>\n",
       "    </tr>\n",
       "    <tr>\n",
       "      <th>4</th>\n",
       "      <td>5</td>\n",
       "      <td>1</td>\n",
       "      <td>0</td>\n",
       "    </tr>\n",
       "    <tr>\n",
       "      <th>5</th>\n",
       "      <td>6</td>\n",
       "      <td>9</td>\n",
       "      <td>1</td>\n",
       "    </tr>\n",
       "    <tr>\n",
       "      <th>6</th>\n",
       "      <td>6</td>\n",
       "      <td>5</td>\n",
       "      <td>0</td>\n",
       "    </tr>\n",
       "    <tr>\n",
       "      <th>7</th>\n",
       "      <td>7</td>\n",
       "      <td>8</td>\n",
       "      <td>1</td>\n",
       "    </tr>\n",
       "    <tr>\n",
       "      <th>8</th>\n",
       "      <td>9</td>\n",
       "      <td>9</td>\n",
       "      <td>0</td>\n",
       "    </tr>\n",
       "    <tr>\n",
       "      <th>9</th>\n",
       "      <td>9</td>\n",
       "      <td>2</td>\n",
       "      <td>0</td>\n",
       "    </tr>\n",
       "  </tbody>\n",
       "</table>\n",
       "</div>"
      ],
      "text/plain": [
       "   X1  X2  label\n",
       "0   1   5      1\n",
       "1   2   3      1\n",
       "2   3   6      0\n",
       "3   4   8      1\n",
       "4   5   1      0\n",
       "5   6   9      1\n",
       "6   6   5      0\n",
       "7   7   8      1\n",
       "8   9   9      0\n",
       "9   9   2      0"
      ]
     },
     "execution_count": 16,
     "metadata": {},
     "output_type": "execute_result"
    }
   ],
   "source": [
    "df"
   ]
  },
  {
   "cell_type": "code",
   "execution_count": 17,
   "id": "ddadc05a",
   "metadata": {
    "execution": {
     "iopub.execute_input": "2025-07-15T19:16:43.250590Z",
     "iopub.status.busy": "2025-07-15T19:16:43.250208Z",
     "iopub.status.idle": "2025-07-15T19:16:44.129496Z",
     "shell.execute_reply": "2025-07-15T19:16:44.128210Z"
    },
    "papermill": {
     "duration": 0.890801,
     "end_time": "2025-07-15T19:16:44.131138",
     "exception": false,
     "start_time": "2025-07-15T19:16:43.240337",
     "status": "completed"
    },
    "tags": []
   },
   "outputs": [
    {
     "data": {
      "text/plain": [
       "<Axes: xlabel='X1', ylabel='X2'>"
      ]
     },
     "execution_count": 17,
     "metadata": {},
     "output_type": "execute_result"
    },
    {
     "data": {
      "image/png": "[encoded data removed]",
      "text/plain": [
       "<Figure size 640x480 with 1 Axes>"
      ]
     },
     "metadata": {},
     "output_type": "display_data"
    }
   ],
   "source": [
    "import seaborn as sns\n",
    "sns.scatterplot(x=df['X1'],y=df['X2'],hue=df['label'])"
   ]
  },
  {
   "cell_type": "code",
   "execution_count": 18,
   "id": "80e5cc80",
   "metadata": {
    "execution": {
     "iopub.execute_input": "2025-07-15T19:16:44.153201Z",
     "iopub.status.busy": "2025-07-15T19:16:44.152759Z",
     "iopub.status.idle": "2025-07-15T19:16:44.158869Z",
     "shell.execute_reply": "2025-07-15T19:16:44.157873Z"
    },
    "papermill": {
     "duration": 0.017906,
     "end_time": "2025-07-15T19:16:44.160576",
     "exception": false,
     "start_time": "2025-07-15T19:16:44.142670",
     "status": "completed"
    },
    "tags": []
   },
   "outputs": [
    {
     "data": {
      "text/plain": [
       "10"
      ]
     },
     "execution_count": 18,
     "metadata": {},
     "output_type": "execute_result"
    }
   ],
   "source": [
    "df.shape[0]"
   ]
  },
  {
   "cell_type": "code",
   "execution_count": 19,
   "id": "67498783",
   "metadata": {
    "execution": {
     "iopub.execute_input": "2025-07-15T19:16:44.182770Z",
     "iopub.status.busy": "2025-07-15T19:16:44.182343Z",
     "iopub.status.idle": "2025-07-15T19:16:44.187973Z",
     "shell.execute_reply": "2025-07-15T19:16:44.186902Z"
    },
    "papermill": {
     "duration": 0.020359,
     "end_time": "2025-07-15T19:16:44.189971",
     "exception": false,
     "start_time": "2025-07-15T19:16:44.169612",
     "status": "completed"
    },
    "tags": []
   },
   "outputs": [],
   "source": [
    "df['weights'] = 1/df.shape[0]"
   ]
  },
  {
   "cell_type": "code",
   "execution_count": 20,
   "id": "804f8fe1",
   "metadata": {
    "execution": {
     "iopub.execute_input": "2025-07-15T19:16:44.209869Z",
     "iopub.status.busy": "2025-07-15T19:16:44.209563Z",
     "iopub.status.idle": "2025-07-15T19:16:44.220703Z",
     "shell.execute_reply": "2025-07-15T19:16:44.219364Z"
    },
    "papermill": {
     "duration": 0.023401,
     "end_time": "2025-07-15T19:16:44.222470",
     "exception": false,
     "start_time": "2025-07-15T19:16:44.199069",
     "status": "completed"
    },
    "tags": []
   },
   "outputs": [
    {
     "data": {
      "text/html": [
       "<div>\n",
       "<style scoped>\n",
       "    .dataframe tbody tr th:only-of-type {\n",
       "        vertical-align: middle;\n",
       "    }\n",
       "\n",
       "    .dataframe tbody tr th {\n",
       "        vertical-align: top;\n",
       "    }\n",
       "\n",
       "    .dataframe thead th {\n",
       "        text-align: right;\n",
       "    }\n",
       "</style>\n",
       "<table border=\"1\" class=\"dataframe\">\n",
       "  <thead>\n",
       "    <tr style=\"text-align: right;\">\n",
       "      <th></th>\n",
       "      <th>X1</th>\n",
       "      <th>X2</th>\n",
       "      <th>label</th>\n",
       "      <th>weights</th>\n",
       "    </tr>\n",
       "  </thead>\n",
       "  <tbody>\n",
       "    <tr>\n",
       "      <th>0</th>\n",
       "      <td>1</td>\n",
       "      <td>5</td>\n",
       "      <td>1</td>\n",
       "      <td>0.1</td>\n",
       "    </tr>\n",
       "    <tr>\n",
       "      <th>1</th>\n",
       "      <td>2</td>\n",
       "      <td>3</td>\n",
       "      <td>1</td>\n",
       "      <td>0.1</td>\n",
       "    </tr>\n",
       "    <tr>\n",
       "      <th>2</th>\n",
       "      <td>3</td>\n",
       "      <td>6</td>\n",
       "      <td>0</td>\n",
       "      <td>0.1</td>\n",
       "    </tr>\n",
       "    <tr>\n",
       "      <th>3</th>\n",
       "      <td>4</td>\n",
       "      <td>8</td>\n",
       "      <td>1</td>\n",
       "      <td>0.1</td>\n",
       "    </tr>\n",
       "    <tr>\n",
       "      <th>4</th>\n",
       "      <td>5</td>\n",
       "      <td>1</td>\n",
       "      <td>0</td>\n",
       "      <td>0.1</td>\n",
       "    </tr>\n",
       "    <tr>\n",
       "      <th>5</th>\n",
       "      <td>6</td>\n",
       "      <td>9</td>\n",
       "      <td>1</td>\n",
       "      <td>0.1</td>\n",
       "    </tr>\n",
       "    <tr>\n",
       "      <th>6</th>\n",
       "      <td>6</td>\n",
       "      <td>5</td>\n",
       "      <td>0</td>\n",
       "      <td>0.1</td>\n",
       "    </tr>\n",
       "    <tr>\n",
       "      <th>7</th>\n",
       "      <td>7</td>\n",
       "      <td>8</td>\n",
       "      <td>1</td>\n",
       "      <td>0.1</td>\n",
       "    </tr>\n",
       "    <tr>\n",
       "      <th>8</th>\n",
       "      <td>9</td>\n",
       "      <td>9</td>\n",
       "      <td>0</td>\n",
       "      <td>0.1</td>\n",
       "    </tr>\n",
       "    <tr>\n",
       "      <th>9</th>\n",
       "      <td>9</td>\n",
       "      <td>2</td>\n",
       "      <td>0</td>\n",
       "      <td>0.1</td>\n",
       "    </tr>\n",
       "  </tbody>\n",
       "</table>\n",
       "</div>"
      ],
      "text/plain": [
       "   X1  X2  label  weights\n",
       "0   1   5      1      0.1\n",
       "1   2   3      1      0.1\n",
       "2   3   6      0      0.1\n",
       "3   4   8      1      0.1\n",
       "4   5   1      0      0.1\n",
       "5   6   9      1      0.1\n",
       "6   6   5      0      0.1\n",
       "7   7   8      1      0.1\n",
       "8   9   9      0      0.1\n",
       "9   9   2      0      0.1"
      ]
     },
     "execution_count": 20,
     "metadata": {},
     "output_type": "execute_result"
    }
   ],
   "source": [
    "df"
   ]
  },
  {
   "cell_type": "code",
   "execution_count": 21,
   "id": "c7828f5e",
   "metadata": {
    "execution": {
     "iopub.execute_input": "2025-07-15T19:16:44.244976Z",
     "iopub.status.busy": "2025-07-15T19:16:44.244635Z",
     "iopub.status.idle": "2025-07-15T19:16:44.249418Z",
     "shell.execute_reply": "2025-07-15T19:16:44.248563Z"
    },
    "papermill": {
     "duration": 0.017884,
     "end_time": "2025-07-15T19:16:44.251124",
     "exception": false,
     "start_time": "2025-07-15T19:16:44.233240",
     "status": "completed"
    },
    "tags": []
   },
   "outputs": [],
   "source": [
    "from sklearn.tree import DecisionTreeClassifier\n",
    "dt1 = DecisionTreeClassifier(max_depth=1)"
   ]
  },
  {
   "cell_type": "code",
   "execution_count": 22,
   "id": "60d088f6",
   "metadata": {
    "execution": {
     "iopub.execute_input": "2025-07-15T19:16:44.272340Z",
     "iopub.status.busy": "2025-07-15T19:16:44.272052Z",
     "iopub.status.idle": "2025-07-15T19:16:44.280570Z",
     "shell.execute_reply": "2025-07-15T19:16:44.278950Z"
    },
    "papermill": {
     "duration": 0.02144,
     "end_time": "2025-07-15T19:16:44.282418",
     "exception": false,
     "start_time": "2025-07-15T19:16:44.260978",
     "status": "completed"
    },
    "tags": []
   },
   "outputs": [],
   "source": [
    "X = df.iloc[:,0:2].values\n",
    "y = df.iloc[:,2].values"
   ]
  },
  {
   "cell_type": "code",
   "execution_count": 23,
   "id": "41a28e1e",
   "metadata": {
    "execution": {
     "iopub.execute_input": "2025-07-15T19:16:44.302762Z",
     "iopub.status.busy": "2025-07-15T19:16:44.302286Z",
     "iopub.status.idle": "2025-07-15T19:16:44.311793Z",
     "shell.execute_reply": "2025-07-15T19:16:44.310324Z"
    },
    "papermill": {
     "duration": 0.021778,
     "end_time": "2025-07-15T19:16:44.313458",
     "exception": false,
     "start_time": "2025-07-15T19:16:44.291680",
     "status": "completed"
    },
    "tags": []
   },
   "outputs": [
    {
     "data": {
      "text/html": [
       "<style>#sk-container-id-2 {color: black;background-color: white;}#sk-container-id-2 pre{padding: 0;}#sk-container-id-2 div.sk-toggleable {background-color: white;}#sk-container-id-2 label.sk-toggleable__label {cursor: pointer;display: block;width: 100%;margin-bottom: 0;padding: 0.3em;box-sizing: border-box;text-align: center;}#sk-container-id-2 label.sk-toggleable__label-arrow:before {content: \"▸\";float: left;margin-right: 0.25em;color: #696969;}#sk-container-id-2 label.sk-toggleable__label-arrow:hover:before {color: black;}#sk-container-id-2 div.sk-estimator:hover label.sk-toggleable__label-arrow:before {color: black;}#sk-container-id-2 div.sk-toggleable__content {max-height: 0;max-width: 0;overflow: hidden;text-align: left;background-color: #f0f8ff;}#sk-container-id-2 div.sk-toggleable__content pre {margin: 0.2em;color: black;border-radius: 0.25em;background-color: #f0f8ff;}#sk-container-id-2 input.sk-toggleable__control:checked~div.sk-toggleable__content {max-height: 200px;max-width: 100%;overflow: auto;}#sk-container-id-2 input.sk-toggleable__control:checked~label.sk-toggleable__label-arrow:before {content: \"▾\";}#sk-container-id-2 div.sk-estimator input.sk-toggleable__control:checked~label.sk-toggleable__label {background-color: #d4ebff;}#sk-container-id-2 div.sk-label input.sk-toggleable__control:checked~label.sk-toggleable__label {background-color: #d4ebff;}#sk-container-id-2 input.sk-hidden--visually {border: 0;clip: rect(1px 1px 1px 1px);clip: rect(1px, 1px, 1px, 1px);height: 1px;margin: -1px;overflow: hidden;padding: 0;position: absolute;width: 1px;}#sk-container-id-2 div.sk-estimator {font-family: monospace;background-color: #f0f8ff;border: 1px dotted black;border-radius: 0.25em;box-sizing: border-box;margin-bottom: 0.5em;}#sk-container-id-2 div.sk-estimator:hover {background-color: #d4ebff;}#sk-container-id-2 div.sk-parallel-item::after {content: \"\";width: 100%;border-bottom: 1px solid gray;flex-grow: 1;}#sk-container-id-2 div.sk-label:hover label.sk-toggleable__label {background-color: #d4ebff;}#sk-container-id-2 div.sk-serial::before {content: \"\";position: absolute;border-left: 1px solid gray;box-sizing: border-box;top: 0;bottom: 0;left: 50%;z-index: 0;}#sk-container-id-2 div.sk-serial {display: flex;flex-direction: column;align-items: center;background-color: white;padding-right: 0.2em;padding-left: 0.2em;position: relative;}#sk-container-id-2 div.sk-item {position: relative;z-index: 1;}#sk-container-id-2 div.sk-parallel {display: flex;align-items: stretch;justify-content: center;background-color: white;position: relative;}#sk-container-id-2 div.sk-item::before, #sk-container-id-2 div.sk-parallel-item::before {content: \"\";position: absolute;border-left: 1px solid gray;box-sizing: border-box;top: 0;bottom: 0;left: 50%;z-index: -1;}#sk-container-id-2 div.sk-parallel-item {display: flex;flex-direction: column;z-index: 1;position: relative;background-color: white;}#sk-container-id-2 div.sk-parallel-item:first-child::after {align-self: flex-end;width: 50%;}#sk-container-id-2 div.sk-parallel-item:last-child::after {align-self: flex-start;width: 50%;}#sk-container-id-2 div.sk-parallel-item:only-child::after {width: 0;}#sk-container-id-2 div.sk-dashed-wrapped {border: 1px dashed gray;margin: 0 0.4em 0.5em 0.4em;box-sizing: border-box;padding-bottom: 0.4em;background-color: white;}#sk-container-id-2 div.sk-label label {font-family: monospace;font-weight: bold;display: inline-block;line-height: 1.2em;}#sk-container-id-2 div.sk-label-container {text-align: center;}#sk-container-id-2 div.sk-container {/* jupyter's `normalize.less` sets `[hidden] { display: none; }` but bootstrap.min.css set `[hidden] { display: none !important; }` so we also need the `!important` here to be able to override the default hidden behavior on the sphinx rendered scikit-learn.org. See: https://github.com/scikit-learn/scikit-learn/issues/21755 */display: inline-block !important;position: relative;}#sk-container-id-2 div.sk-text-repr-fallback {display: none;}</style><div id=\"sk-container-id-2\" class=\"sk-top-container\"><div class=\"sk-text-repr-fallback\"><pre>DecisionTreeClassifier(max_depth=1)</pre><b>In a Jupyter environment, please rerun this cell to show the HTML representation or trust the notebook. <br />On GitHub, the HTML representation is unable to render, please try loading this page with nbviewer.org.</b></div><div class=\"sk-container\" hidden><div class=\"sk-item\"><div class=\"sk-estimator sk-toggleable\"><input class=\"sk-toggleable__control sk-hidden--visually\" id=\"sk-estimator-id-4\" type=\"checkbox\" checked><label for=\"sk-estimator-id-4\" class=\"sk-toggleable__label sk-toggleable__label-arrow\">DecisionTreeClassifier</label><div class=\"sk-toggleable__content\"><pre>DecisionTreeClassifier(max_depth=1)</pre></div></div></div></div></div>"
      ],
      "text/plain": [
       "DecisionTreeClassifier(max_depth=1)"
      ]
     },
     "execution_count": 23,
     "metadata": {},
     "output_type": "execute_result"
    }
   ],
   "source": [
    "dt1.fit(X,y)"
   ]
  },
  {
   "cell_type": "code",
   "execution_count": 24,
   "id": "b6fac904",
   "metadata": {
    "execution": {
     "iopub.execute_input": "2025-07-15T19:16:44.334112Z",
     "iopub.status.busy": "2025-07-15T19:16:44.333289Z",
     "iopub.status.idle": "2025-07-15T19:16:44.526471Z",
     "shell.execute_reply": "2025-07-15T19:16:44.525458Z"
    },
    "papermill": {
     "duration": 0.20545,
     "end_time": "2025-07-15T19:16:44.528604",
     "exception": false,
     "start_time": "2025-07-15T19:16:44.323154",
     "status": "completed"
    },
    "tags": []
   },
   "outputs": [
    {
     "data": {
      "text/plain": [
       "[Text(0.5, 0.75, 'x[0] <= 2.5\\ngini = 0.5\\nsamples = 10\\nvalue = [5, 5]'),\n",
       " Text(0.25, 0.25, 'gini = 0.0\\nsamples = 2\\nvalue = [0, 2]'),\n",
       " Text(0.75, 0.25, 'gini = 0.469\\nsamples = 8\\nvalue = [5, 3]')]"
      ]
     },
     "execution_count": 24,
     "metadata": {},
     "output_type": "execute_result"
    },
    {
     "data": {
      "image/png": "[encoded data removed]",
      "text/plain": [
       "<Figure size 640x480 with 1 Axes>"
      ]
     },
     "metadata": {},
     "output_type": "display_data"
    }
   ],
   "source": [
    "from sklearn.tree import plot_tree\n",
    "plot_tree(dt1)"
   ]
  },
  {
   "cell_type": "code",
   "execution_count": 25,
   "id": "76bca2c5",
   "metadata": {
    "execution": {
     "iopub.execute_input": "2025-07-15T19:16:44.550892Z",
     "iopub.status.busy": "2025-07-15T19:16:44.550592Z",
     "iopub.status.idle": "2025-07-15T19:16:44.860642Z",
     "shell.execute_reply": "2025-07-15T19:16:44.859465Z"
    },
    "papermill": {
     "duration": 0.322938,
     "end_time": "2025-07-15T19:16:44.862526",
     "exception": false,
     "start_time": "2025-07-15T19:16:44.539588",
     "status": "completed"
    },
    "tags": []
   },
   "outputs": [
    {
     "data": {
      "text/plain": [
       "<Axes: >"
      ]
     },
     "execution_count": 25,
     "metadata": {},
     "output_type": "execute_result"
    },
    {
     "data": {
      "image/png": "[encoded data removed]",
      "text/plain": [
       "<Figure size 640x480 with 1 Axes>"
      ]
     },
     "metadata": {},
     "output_type": "display_data"
    }
   ],
   "source": [
    "plot_decision_regions(X, y, clf=dt1, legend=2)"
   ]
  },
  {
   "cell_type": "code",
   "execution_count": 26,
   "id": "4249dc43",
   "metadata": {
    "execution": {
     "iopub.execute_input": "2025-07-15T19:16:44.885594Z",
     "iopub.status.busy": "2025-07-15T19:16:44.885161Z",
     "iopub.status.idle": "2025-07-15T19:16:44.898430Z",
     "shell.execute_reply": "2025-07-15T19:16:44.897159Z"
    },
    "papermill": {
     "duration": 0.026809,
     "end_time": "2025-07-15T19:16:44.900126",
     "exception": false,
     "start_time": "2025-07-15T19:16:44.873317",
     "status": "completed"
    },
    "tags": []
   },
   "outputs": [
    {
     "data": {
      "text/html": [
       "<div>\n",
       "<style scoped>\n",
       "    .dataframe tbody tr th:only-of-type {\n",
       "        vertical-align: middle;\n",
       "    }\n",
       "\n",
       "    .dataframe tbody tr th {\n",
       "        vertical-align: top;\n",
       "    }\n",
       "\n",
       "    .dataframe thead th {\n",
       "        text-align: right;\n",
       "    }\n",
       "</style>\n",
       "<table border=\"1\" class=\"dataframe\">\n",
       "  <thead>\n",
       "    <tr style=\"text-align: right;\">\n",
       "      <th></th>\n",
       "      <th>X1</th>\n",
       "      <th>X2</th>\n",
       "      <th>label</th>\n",
       "      <th>weights</th>\n",
       "      <th>y_pred</th>\n",
       "    </tr>\n",
       "  </thead>\n",
       "  <tbody>\n",
       "    <tr>\n",
       "      <th>0</th>\n",
       "      <td>1</td>\n",
       "      <td>5</td>\n",
       "      <td>1</td>\n",
       "      <td>0.1</td>\n",
       "      <td>1</td>\n",
       "    </tr>\n",
       "    <tr>\n",
       "      <th>1</th>\n",
       "      <td>2</td>\n",
       "      <td>3</td>\n",
       "      <td>1</td>\n",
       "      <td>0.1</td>\n",
       "      <td>1</td>\n",
       "    </tr>\n",
       "    <tr>\n",
       "      <th>2</th>\n",
       "      <td>3</td>\n",
       "      <td>6</td>\n",
       "      <td>0</td>\n",
       "      <td>0.1</td>\n",
       "      <td>0</td>\n",
       "    </tr>\n",
       "    <tr>\n",
       "      <th>3</th>\n",
       "      <td>4</td>\n",
       "      <td>8</td>\n",
       "      <td>1</td>\n",
       "      <td>0.1</td>\n",
       "      <td>0</td>\n",
       "    </tr>\n",
       "    <tr>\n",
       "      <th>4</th>\n",
       "      <td>5</td>\n",
       "      <td>1</td>\n",
       "      <td>0</td>\n",
       "      <td>0.1</td>\n",
       "      <td>0</td>\n",
       "    </tr>\n",
       "    <tr>\n",
       "      <th>5</th>\n",
       "      <td>6</td>\n",
       "      <td>9</td>\n",
       "      <td>1</td>\n",
       "      <td>0.1</td>\n",
       "      <td>0</td>\n",
       "    </tr>\n",
       "    <tr>\n",
       "      <th>6</th>\n",
       "      <td>6</td>\n",
       "      <td>5</td>\n",
       "      <td>0</td>\n",
       "      <td>0.1</td>\n",
       "      <td>0</td>\n",
       "    </tr>\n",
       "    <tr>\n",
       "      <th>7</th>\n",
       "      <td>7</td>\n",
       "      <td>8</td>\n",
       "      <td>1</td>\n",
       "      <td>0.1</td>\n",
       "      <td>0</td>\n",
       "    </tr>\n",
       "    <tr>\n",
       "      <th>8</th>\n",
       "      <td>9</td>\n",
       "      <td>9</td>\n",
       "      <td>0</td>\n",
       "      <td>0.1</td>\n",
       "      <td>0</td>\n",
       "    </tr>\n",
       "    <tr>\n",
       "      <th>9</th>\n",
       "      <td>9</td>\n",
       "      <td>2</td>\n",
       "      <td>0</td>\n",
       "      <td>0.1</td>\n",
       "      <td>0</td>\n",
       "    </tr>\n",
       "  </tbody>\n",
       "</table>\n",
       "</div>"
      ],
      "text/plain": [
       "   X1  X2  label  weights  y_pred\n",
       "0   1   5      1      0.1       1\n",
       "1   2   3      1      0.1       1\n",
       "2   3   6      0      0.1       0\n",
       "3   4   8      1      0.1       0\n",
       "4   5   1      0      0.1       0\n",
       "5   6   9      1      0.1       0\n",
       "6   6   5      0      0.1       0\n",
       "7   7   8      1      0.1       0\n",
       "8   9   9      0      0.1       0\n",
       "9   9   2      0      0.1       0"
      ]
     },
     "execution_count": 26,
     "metadata": {},
     "output_type": "execute_result"
    }
   ],
   "source": [
    "df['y_pred'] = dt1.predict(X)\n",
    "df"
   ]
  },
  {
   "cell_type": "code",
   "execution_count": 27,
   "id": "3a4088ea",
   "metadata": {
    "execution": {
     "iopub.execute_input": "2025-07-15T19:16:44.924222Z",
     "iopub.status.busy": "2025-07-15T19:16:44.923903Z",
     "iopub.status.idle": "2025-07-15T19:16:44.928585Z",
     "shell.execute_reply": "2025-07-15T19:16:44.927622Z"
    },
    "papermill": {
     "duration": 0.018212,
     "end_time": "2025-07-15T19:16:44.930122",
     "exception": false,
     "start_time": "2025-07-15T19:16:44.911910",
     "status": "completed"
    },
    "tags": []
   },
   "outputs": [],
   "source": [
    "\n",
    "def calculate_model_weight(error):\n",
    "\n",
    "  return 0.5*np.log((1-error)/(error))"
   ]
  },
  {
   "cell_type": "code",
   "execution_count": 28,
   "id": "b329b863",
   "metadata": {
    "execution": {
     "iopub.execute_input": "2025-07-15T19:16:44.952536Z",
     "iopub.status.busy": "2025-07-15T19:16:44.952197Z",
     "iopub.status.idle": "2025-07-15T19:16:44.958768Z",
     "shell.execute_reply": "2025-07-15T19:16:44.957640Z"
    },
    "papermill": {
     "duration": 0.019865,
     "end_time": "2025-07-15T19:16:44.960521",
     "exception": false,
     "start_time": "2025-07-15T19:16:44.940656",
     "status": "completed"
    },
    "tags": []
   },
   "outputs": [
    {
     "data": {
      "text/plain": [
       "0.42364893019360184"
      ]
     },
     "execution_count": 28,
     "metadata": {},
     "output_type": "execute_result"
    }
   ],
   "source": [
    "alpha1 = calculate_model_weight(0.3)\n",
    "alpha1"
   ]
  },
  {
   "cell_type": "code",
   "execution_count": 29,
   "id": "22e0675c",
   "metadata": {
    "execution": {
     "iopub.execute_input": "2025-07-15T19:16:44.985260Z",
     "iopub.status.busy": "2025-07-15T19:16:44.984322Z",
     "iopub.status.idle": "2025-07-15T19:16:44.989450Z",
     "shell.execute_reply": "2025-07-15T19:16:44.988575Z"
    },
    "papermill": {
     "duration": 0.019114,
     "end_time": "2025-07-15T19:16:44.991129",
     "exception": false,
     "start_time": "2025-07-15T19:16:44.972015",
     "status": "completed"
    },
    "tags": []
   },
   "outputs": [],
   "source": [
    "\n",
    "# Step 4 - Update weights\n",
    "def update_row_weights(row,alpha=0.423):\n",
    "  if row['label'] == row['y_pred']:\n",
    "    return row['weights'] * np.exp(-alpha)\n",
    "  else:\n",
    "    return row['weights'] * np.exp(alpha)"
   ]
  },
  {
   "cell_type": "code",
   "execution_count": 30,
   "id": "a797bd61",
   "metadata": {
    "execution": {
     "iopub.execute_input": "2025-07-15T19:16:45.013663Z",
     "iopub.status.busy": "2025-07-15T19:16:45.012959Z",
     "iopub.status.idle": "2025-07-15T19:16:45.019712Z",
     "shell.execute_reply": "2025-07-15T19:16:45.018822Z"
    },
    "papermill": {
     "duration": 0.019789,
     "end_time": "2025-07-15T19:16:45.021492",
     "exception": false,
     "start_time": "2025-07-15T19:16:45.001703",
     "status": "completed"
    },
    "tags": []
   },
   "outputs": [],
   "source": [
    "df['updated_weights'] = df.apply(update_row_weights,axis=1)"
   ]
  },
  {
   "cell_type": "code",
   "execution_count": 31,
   "id": "8a63c28f",
   "metadata": {
    "execution": {
     "iopub.execute_input": "2025-07-15T19:16:45.045184Z",
     "iopub.status.busy": "2025-07-15T19:16:45.044900Z",
     "iopub.status.idle": "2025-07-15T19:16:45.055847Z",
     "shell.execute_reply": "2025-07-15T19:16:45.054860Z"
    },
    "papermill": {
     "duration": 0.024653,
     "end_time": "2025-07-15T19:16:45.057308",
     "exception": false,
     "start_time": "2025-07-15T19:16:45.032655",
     "status": "completed"
    },
    "tags": []
   },
   "outputs": [
    {
     "data": {
      "text/html": [
       "<div>\n",
       "<style scoped>\n",
       "    .dataframe tbody tr th:only-of-type {\n",
       "        vertical-align: middle;\n",
       "    }\n",
       "\n",
       "    .dataframe tbody tr th {\n",
       "        vertical-align: top;\n",
       "    }\n",
       "\n",
       "    .dataframe thead th {\n",
       "        text-align: right;\n",
       "    }\n",
       "</style>\n",
       "<table border=\"1\" class=\"dataframe\">\n",
       "  <thead>\n",
       "    <tr style=\"text-align: right;\">\n",
       "      <th></th>\n",
       "      <th>X1</th>\n",
       "      <th>X2</th>\n",
       "      <th>label</th>\n",
       "      <th>weights</th>\n",
       "      <th>y_pred</th>\n",
       "      <th>updated_weights</th>\n",
       "    </tr>\n",
       "  </thead>\n",
       "  <tbody>\n",
       "    <tr>\n",
       "      <th>0</th>\n",
       "      <td>1</td>\n",
       "      <td>5</td>\n",
       "      <td>1</td>\n",
       "      <td>0.1</td>\n",
       "      <td>1</td>\n",
       "      <td>0.065508</td>\n",
       "    </tr>\n",
       "    <tr>\n",
       "      <th>1</th>\n",
       "      <td>2</td>\n",
       "      <td>3</td>\n",
       "      <td>1</td>\n",
       "      <td>0.1</td>\n",
       "      <td>1</td>\n",
       "      <td>0.065508</td>\n",
       "    </tr>\n",
       "    <tr>\n",
       "      <th>2</th>\n",
       "      <td>3</td>\n",
       "      <td>6</td>\n",
       "      <td>0</td>\n",
       "      <td>0.1</td>\n",
       "      <td>0</td>\n",
       "      <td>0.065508</td>\n",
       "    </tr>\n",
       "    <tr>\n",
       "      <th>3</th>\n",
       "      <td>4</td>\n",
       "      <td>8</td>\n",
       "      <td>1</td>\n",
       "      <td>0.1</td>\n",
       "      <td>0</td>\n",
       "      <td>0.152653</td>\n",
       "    </tr>\n",
       "    <tr>\n",
       "      <th>4</th>\n",
       "      <td>5</td>\n",
       "      <td>1</td>\n",
       "      <td>0</td>\n",
       "      <td>0.1</td>\n",
       "      <td>0</td>\n",
       "      <td>0.065508</td>\n",
       "    </tr>\n",
       "    <tr>\n",
       "      <th>5</th>\n",
       "      <td>6</td>\n",
       "      <td>9</td>\n",
       "      <td>1</td>\n",
       "      <td>0.1</td>\n",
       "      <td>0</td>\n",
       "      <td>0.152653</td>\n",
       "    </tr>\n",
       "    <tr>\n",
       "      <th>6</th>\n",
       "      <td>6</td>\n",
       "      <td>5</td>\n",
       "      <td>0</td>\n",
       "      <td>0.1</td>\n",
       "      <td>0</td>\n",
       "      <td>0.065508</td>\n",
       "    </tr>\n",
       "    <tr>\n",
       "      <th>7</th>\n",
       "      <td>7</td>\n",
       "      <td>8</td>\n",
       "      <td>1</td>\n",
       "      <td>0.1</td>\n",
       "      <td>0</td>\n",
       "      <td>0.152653</td>\n",
       "    </tr>\n",
       "    <tr>\n",
       "      <th>8</th>\n",
       "      <td>9</td>\n",
       "      <td>9</td>\n",
       "      <td>0</td>\n",
       "      <td>0.1</td>\n",
       "      <td>0</td>\n",
       "      <td>0.065508</td>\n",
       "    </tr>\n",
       "    <tr>\n",
       "      <th>9</th>\n",
       "      <td>9</td>\n",
       "      <td>2</td>\n",
       "      <td>0</td>\n",
       "      <td>0.1</td>\n",
       "      <td>0</td>\n",
       "      <td>0.065508</td>\n",
       "    </tr>\n",
       "  </tbody>\n",
       "</table>\n",
       "</div>"
      ],
      "text/plain": [
       "   X1  X2  label  weights  y_pred  updated_weights\n",
       "0   1   5      1      0.1       1         0.065508\n",
       "1   2   3      1      0.1       1         0.065508\n",
       "2   3   6      0      0.1       0         0.065508\n",
       "3   4   8      1      0.1       0         0.152653\n",
       "4   5   1      0      0.1       0         0.065508\n",
       "5   6   9      1      0.1       0         0.152653\n",
       "6   6   5      0      0.1       0         0.065508\n",
       "7   7   8      1      0.1       0         0.152653\n",
       "8   9   9      0      0.1       0         0.065508\n",
       "9   9   2      0      0.1       0         0.065508"
      ]
     },
     "execution_count": 31,
     "metadata": {},
     "output_type": "execute_result"
    }
   ],
   "source": [
    "df"
   ]
  },
  {
   "cell_type": "code",
   "execution_count": 32,
   "id": "ea65e637",
   "metadata": {
    "execution": {
     "iopub.execute_input": "2025-07-15T19:16:45.081311Z",
     "iopub.status.busy": "2025-07-15T19:16:45.080372Z",
     "iopub.status.idle": "2025-07-15T19:16:45.087356Z",
     "shell.execute_reply": "2025-07-15T19:16:45.086569Z"
    },
    "papermill": {
     "duration": 0.020343,
     "end_time": "2025-07-15T19:16:45.088886",
     "exception": false,
     "start_time": "2025-07-15T19:16:45.068543",
     "status": "completed"
    },
    "tags": []
   },
   "outputs": [
    {
     "data": {
      "text/plain": [
       "0.9165153319682015"
      ]
     },
     "execution_count": 32,
     "metadata": {},
     "output_type": "execute_result"
    }
   ],
   "source": [
    "df['updated_weights'].sum()"
   ]
  },
  {
   "cell_type": "code",
   "execution_count": 33,
   "id": "dc9c3a67",
   "metadata": {
    "execution": {
     "iopub.execute_input": "2025-07-15T19:16:45.112169Z",
     "iopub.status.busy": "2025-07-15T19:16:45.111877Z",
     "iopub.status.idle": "2025-07-15T19:16:45.117067Z",
     "shell.execute_reply": "2025-07-15T19:16:45.116112Z"
    },
    "papermill": {
     "duration": 0.018953,
     "end_time": "2025-07-15T19:16:45.119053",
     "exception": false,
     "start_time": "2025-07-15T19:16:45.100100",
     "status": "completed"
    },
    "tags": []
   },
   "outputs": [],
   "source": [
    "\n",
    "df['nomalized_weights'] = df['updated_weights']/df['updated_weights'].sum()"
   ]
  },
  {
   "cell_type": "code",
   "execution_count": 34,
   "id": "7fb6be1f",
   "metadata": {
    "execution": {
     "iopub.execute_input": "2025-07-15T19:16:45.142910Z",
     "iopub.status.busy": "2025-07-15T19:16:45.142571Z",
     "iopub.status.idle": "2025-07-15T19:16:45.154048Z",
     "shell.execute_reply": "2025-07-15T19:16:45.153158Z"
    },
    "papermill": {
     "duration": 0.025587,
     "end_time": "2025-07-15T19:16:45.155652",
     "exception": false,
     "start_time": "2025-07-15T19:16:45.130065",
     "status": "completed"
    },
    "tags": []
   },
   "outputs": [
    {
     "data": {
      "text/html": [
       "<div>\n",
       "<style scoped>\n",
       "    .dataframe tbody tr th:only-of-type {\n",
       "        vertical-align: middle;\n",
       "    }\n",
       "\n",
       "    .dataframe tbody tr th {\n",
       "        vertical-align: top;\n",
       "    }\n",
       "\n",
       "    .dataframe thead th {\n",
       "        text-align: right;\n",
       "    }\n",
       "</style>\n",
       "<table border=\"1\" class=\"dataframe\">\n",
       "  <thead>\n",
       "    <tr style=\"text-align: right;\">\n",
       "      <th></th>\n",
       "      <th>X1</th>\n",
       "      <th>X2</th>\n",
       "      <th>label</th>\n",
       "      <th>weights</th>\n",
       "      <th>y_pred</th>\n",
       "      <th>updated_weights</th>\n",
       "      <th>nomalized_weights</th>\n",
       "    </tr>\n",
       "  </thead>\n",
       "  <tbody>\n",
       "    <tr>\n",
       "      <th>0</th>\n",
       "      <td>1</td>\n",
       "      <td>5</td>\n",
       "      <td>1</td>\n",
       "      <td>0.1</td>\n",
       "      <td>1</td>\n",
       "      <td>0.065508</td>\n",
       "      <td>0.071475</td>\n",
       "    </tr>\n",
       "    <tr>\n",
       "      <th>1</th>\n",
       "      <td>2</td>\n",
       "      <td>3</td>\n",
       "      <td>1</td>\n",
       "      <td>0.1</td>\n",
       "      <td>1</td>\n",
       "      <td>0.065508</td>\n",
       "      <td>0.071475</td>\n",
       "    </tr>\n",
       "    <tr>\n",
       "      <th>2</th>\n",
       "      <td>3</td>\n",
       "      <td>6</td>\n",
       "      <td>0</td>\n",
       "      <td>0.1</td>\n",
       "      <td>0</td>\n",
       "      <td>0.065508</td>\n",
       "      <td>0.071475</td>\n",
       "    </tr>\n",
       "    <tr>\n",
       "      <th>3</th>\n",
       "      <td>4</td>\n",
       "      <td>8</td>\n",
       "      <td>1</td>\n",
       "      <td>0.1</td>\n",
       "      <td>0</td>\n",
       "      <td>0.152653</td>\n",
       "      <td>0.166559</td>\n",
       "    </tr>\n",
       "    <tr>\n",
       "      <th>4</th>\n",
       "      <td>5</td>\n",
       "      <td>1</td>\n",
       "      <td>0</td>\n",
       "      <td>0.1</td>\n",
       "      <td>0</td>\n",
       "      <td>0.065508</td>\n",
       "      <td>0.071475</td>\n",
       "    </tr>\n",
       "    <tr>\n",
       "      <th>5</th>\n",
       "      <td>6</td>\n",
       "      <td>9</td>\n",
       "      <td>1</td>\n",
       "      <td>0.1</td>\n",
       "      <td>0</td>\n",
       "      <td>0.152653</td>\n",
       "      <td>0.166559</td>\n",
       "    </tr>\n",
       "    <tr>\n",
       "      <th>6</th>\n",
       "      <td>6</td>\n",
       "      <td>5</td>\n",
       "      <td>0</td>\n",
       "      <td>0.1</td>\n",
       "      <td>0</td>\n",
       "      <td>0.065508</td>\n",
       "      <td>0.071475</td>\n",
       "    </tr>\n",
       "    <tr>\n",
       "      <th>7</th>\n",
       "      <td>7</td>\n",
       "      <td>8</td>\n",
       "      <td>1</td>\n",
       "      <td>0.1</td>\n",
       "      <td>0</td>\n",
       "      <td>0.152653</td>\n",
       "      <td>0.166559</td>\n",
       "    </tr>\n",
       "    <tr>\n",
       "      <th>8</th>\n",
       "      <td>9</td>\n",
       "      <td>9</td>\n",
       "      <td>0</td>\n",
       "      <td>0.1</td>\n",
       "      <td>0</td>\n",
       "      <td>0.065508</td>\n",
       "      <td>0.071475</td>\n",
       "    </tr>\n",
       "    <tr>\n",
       "      <th>9</th>\n",
       "      <td>9</td>\n",
       "      <td>2</td>\n",
       "      <td>0</td>\n",
       "      <td>0.1</td>\n",
       "      <td>0</td>\n",
       "      <td>0.065508</td>\n",
       "      <td>0.071475</td>\n",
       "    </tr>\n",
       "  </tbody>\n",
       "</table>\n",
       "</div>"
      ],
      "text/plain": [
       "   X1  X2  label  weights  y_pred  updated_weights  nomalized_weights\n",
       "0   1   5      1      0.1       1         0.065508           0.071475\n",
       "1   2   3      1      0.1       1         0.065508           0.071475\n",
       "2   3   6      0      0.1       0         0.065508           0.071475\n",
       "3   4   8      1      0.1       0         0.152653           0.166559\n",
       "4   5   1      0      0.1       0         0.065508           0.071475\n",
       "5   6   9      1      0.1       0         0.152653           0.166559\n",
       "6   6   5      0      0.1       0         0.065508           0.071475\n",
       "7   7   8      1      0.1       0         0.152653           0.166559\n",
       "8   9   9      0      0.1       0         0.065508           0.071475\n",
       "9   9   2      0      0.1       0         0.065508           0.071475"
      ]
     },
     "execution_count": 34,
     "metadata": {},
     "output_type": "execute_result"
    }
   ],
   "source": [
    "df"
   ]
  },
  {
   "cell_type": "code",
   "execution_count": 35,
   "id": "bd8f3959",
   "metadata": {
    "execution": {
     "iopub.execute_input": "2025-07-15T19:16:45.180070Z",
     "iopub.status.busy": "2025-07-15T19:16:45.179750Z",
     "iopub.status.idle": "2025-07-15T19:16:45.187039Z",
     "shell.execute_reply": "2025-07-15T19:16:45.186192Z"
    },
    "papermill": {
     "duration": 0.021936,
     "end_time": "2025-07-15T19:16:45.188614",
     "exception": false,
     "start_time": "2025-07-15T19:16:45.166678",
     "status": "completed"
    },
    "tags": []
   },
   "outputs": [
    {
     "data": {
      "text/plain": [
       "1.0"
      ]
     },
     "execution_count": 35,
     "metadata": {},
     "output_type": "execute_result"
    }
   ],
   "source": [
    "df['nomalized_weights'].sum()"
   ]
  },
  {
   "cell_type": "code",
   "execution_count": null,
   "id": "532d89e4",
   "metadata": {
    "papermill": {
     "duration": 0.011869,
     "end_time": "2025-07-15T19:16:45.211780",
     "exception": false,
     "start_time": "2025-07-15T19:16:45.199911",
     "status": "completed"
    },
    "tags": []
   },
   "outputs": [],
   "source": []
  }
 ],
 "metadata": {
  "kaggle": {
   "accelerator": "none",
   "dataSources": [],
   "dockerImageVersionId": 31089,
   "isGpuEnabled": false,
   "isInternetEnabled": true,
   "language": "python",
   "sourceType": "notebook"
  },
  "kernelspec": {
   "display_name": "Python 3",
   "language": "python",
   "name": "python3"
  },
  "language_info": {
   "codemirror_mode": {
    "name": "ipython",
    "version": 3
   },
   "file_extension": ".py",
   "mimetype": "text/x-python",
   "name": "python",
   "nbconvert_exporter": "python",
   "pygments_lexer": "ipython3",
   "version": "3.11.13"
  },
  "papermill": {
   "default_parameters": {},
   "duration": 14.027362,
   "end_time": "2025-07-15T19:16:46.043688",
   "environment_variables": {},
   "exception": null,
   "input_path": "__notebook__.ipynb",
   "output_path": "__notebook__.ipynb",
   "parameters": {},
   "start_time": "2025-07-15T19:16:32.016326",
   "version": "2.6.0"
  }
 },
 "nbformat": 4,
 "nbformat_minor": 5
}
